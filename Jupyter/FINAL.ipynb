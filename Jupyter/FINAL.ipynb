{
 "cells": [
  {
   "cell_type": "code",
   "execution_count": 16,
   "metadata": {},
   "outputs": [],
   "source": [
    "import nltk\n",
    "from nltk import word_tokenize, sent_tokenize\n",
    "import gensim\n",
    "from gensim.models.word2vec import Word2Vec\n",
    "from sklearn.manifold import TSNE\n",
    "import pandas as pd\n",
    "from bokeh.io import output_notebook\n",
    "from bokeh.plotting import show, figure\n",
    "%matplotlib inline\n"
   ]
  },
  {
   "cell_type": "code",
   "execution_count": 22,
   "metadata": {},
   "outputs": [],
   "source": [
    "model = gensim.models.Word2Vec.load(r'D:\\MY\\GIT\\GujaratiWord2Vec\\pure_Gujarati\\pure_gujarati_corpus\\Transformed_model\\combined_dataset_CBOW.w2v')\n",
    "X = model.wv.__getitem__(model.wv.vocab)"
   ]
  },
  {
   "cell_type": "code",
   "execution_count": 23,
   "metadata": {},
   "outputs": [],
   "source": [
    "tsne = TSNE(n_components=2, n_iter=5000) # 200 is minimum iter; default is 1000"
   ]
  },
  {
   "cell_type": "code",
   "execution_count": 24,
   "metadata": {},
   "outputs": [],
   "source": [
    "X_2d = tsne.fit_transform(X)\n",
    "# create DataFrame for storing results and plotting\n",
    "coords_df = pd.DataFrame(X_2d, columns=['x','y'])\n",
    "coords_df['token'] = model.wv.vocab.keys()"
   ]
  },
  {
   "cell_type": "code",
   "execution_count": 25,
   "metadata": {},
   "outputs": [
    {
     "data": {
      "text/html": [
       "\n",
       "    <div class=\"bk-root\">\n",
       "        <a href=\"https://bokeh.pydata.org\" target=\"_blank\" class=\"bk-logo bk-logo-small bk-logo-notebook\"></a>\n",
       "        <span id=\"1250\">Loading BokehJS ...</span>\n",
       "    </div>"
      ]
     },
     "metadata": {},
     "output_type": "display_data"
    },
    {
     "data": {
      "application/javascript": [
       "\n",
       "(function(root) {\n",
       "  function now() {\n",
       "    return new Date();\n",
       "  }\n",
       "\n",
       "  var force = true;\n",
       "\n",
       "  if (typeof root._bokeh_onload_callbacks === \"undefined\" || force === true) {\n",
       "    root._bokeh_onload_callbacks = [];\n",
       "    root._bokeh_is_loading = undefined;\n",
       "  }\n",
       "\n",
       "  var JS_MIME_TYPE = 'application/javascript';\n",
       "  var HTML_MIME_TYPE = 'text/html';\n",
       "  var EXEC_MIME_TYPE = 'application/vnd.bokehjs_exec.v0+json';\n",
       "  var CLASS_NAME = 'output_bokeh rendered_html';\n",
       "\n",
       "  /**\n",
       "   * Render data to the DOM node\n",
       "   */\n",
       "  function render(props, node) {\n",
       "    var script = document.createElement(\"script\");\n",
       "    node.appendChild(script);\n",
       "  }\n",
       "\n",
       "  /**\n",
       "   * Handle when an output is cleared or removed\n",
       "   */\n",
       "  function handleClearOutput(event, handle) {\n",
       "    var cell = handle.cell;\n",
       "\n",
       "    var id = cell.output_area._bokeh_element_id;\n",
       "    var server_id = cell.output_area._bokeh_server_id;\n",
       "    // Clean up Bokeh references\n",
       "    if (id != null && id in Bokeh.index) {\n",
       "      Bokeh.index[id].model.document.clear();\n",
       "      delete Bokeh.index[id];\n",
       "    }\n",
       "\n",
       "    if (server_id !== undefined) {\n",
       "      // Clean up Bokeh references\n",
       "      var cmd = \"from bokeh.io.state import curstate; print(curstate().uuid_to_server['\" + server_id + \"'].get_sessions()[0].document.roots[0]._id)\";\n",
       "      cell.notebook.kernel.execute(cmd, {\n",
       "        iopub: {\n",
       "          output: function(msg) {\n",
       "            var id = msg.content.text.trim();\n",
       "            if (id in Bokeh.index) {\n",
       "              Bokeh.index[id].model.document.clear();\n",
       "              delete Bokeh.index[id];\n",
       "            }\n",
       "          }\n",
       "        }\n",
       "      });\n",
       "      // Destroy server and session\n",
       "      var cmd = \"import bokeh.io.notebook as ion; ion.destroy_server('\" + server_id + \"')\";\n",
       "      cell.notebook.kernel.execute(cmd);\n",
       "    }\n",
       "  }\n",
       "\n",
       "  /**\n",
       "   * Handle when a new output is added\n",
       "   */\n",
       "  function handleAddOutput(event, handle) {\n",
       "    var output_area = handle.output_area;\n",
       "    var output = handle.output;\n",
       "\n",
       "    // limit handleAddOutput to display_data with EXEC_MIME_TYPE content only\n",
       "    if ((output.output_type != \"display_data\") || (!output.data.hasOwnProperty(EXEC_MIME_TYPE))) {\n",
       "      return\n",
       "    }\n",
       "\n",
       "    var toinsert = output_area.element.find(\".\" + CLASS_NAME.split(' ')[0]);\n",
       "\n",
       "    if (output.metadata[EXEC_MIME_TYPE][\"id\"] !== undefined) {\n",
       "      toinsert[toinsert.length - 1].firstChild.textContent = output.data[JS_MIME_TYPE];\n",
       "      // store reference to embed id on output_area\n",
       "      output_area._bokeh_element_id = output.metadata[EXEC_MIME_TYPE][\"id\"];\n",
       "    }\n",
       "    if (output.metadata[EXEC_MIME_TYPE][\"server_id\"] !== undefined) {\n",
       "      var bk_div = document.createElement(\"div\");\n",
       "      bk_div.innerHTML = output.data[HTML_MIME_TYPE];\n",
       "      var script_attrs = bk_div.children[0].attributes;\n",
       "      for (var i = 0; i < script_attrs.length; i++) {\n",
       "        toinsert[toinsert.length - 1].firstChild.setAttribute(script_attrs[i].name, script_attrs[i].value);\n",
       "      }\n",
       "      // store reference to server id on output_area\n",
       "      output_area._bokeh_server_id = output.metadata[EXEC_MIME_TYPE][\"server_id\"];\n",
       "    }\n",
       "  }\n",
       "\n",
       "  function register_renderer(events, OutputArea) {\n",
       "\n",
       "    function append_mime(data, metadata, element) {\n",
       "      // create a DOM node to render to\n",
       "      var toinsert = this.create_output_subarea(\n",
       "        metadata,\n",
       "        CLASS_NAME,\n",
       "        EXEC_MIME_TYPE\n",
       "      );\n",
       "      this.keyboard_manager.register_events(toinsert);\n",
       "      // Render to node\n",
       "      var props = {data: data, metadata: metadata[EXEC_MIME_TYPE]};\n",
       "      render(props, toinsert[toinsert.length - 1]);\n",
       "      element.append(toinsert);\n",
       "      return toinsert\n",
       "    }\n",
       "\n",
       "    /* Handle when an output is cleared or removed */\n",
       "    events.on('clear_output.CodeCell', handleClearOutput);\n",
       "    events.on('delete.Cell', handleClearOutput);\n",
       "\n",
       "    /* Handle when a new output is added */\n",
       "    events.on('output_added.OutputArea', handleAddOutput);\n",
       "\n",
       "    /**\n",
       "     * Register the mime type and append_mime function with output_area\n",
       "     */\n",
       "    OutputArea.prototype.register_mime_type(EXEC_MIME_TYPE, append_mime, {\n",
       "      /* Is output safe? */\n",
       "      safe: true,\n",
       "      /* Index of renderer in `output_area.display_order` */\n",
       "      index: 0\n",
       "    });\n",
       "  }\n",
       "\n",
       "  // register the mime type if in Jupyter Notebook environment and previously unregistered\n",
       "  if (root.Jupyter !== undefined) {\n",
       "    var events = require('base/js/events');\n",
       "    var OutputArea = require('notebook/js/outputarea').OutputArea;\n",
       "\n",
       "    if (OutputArea.prototype.mime_types().indexOf(EXEC_MIME_TYPE) == -1) {\n",
       "      register_renderer(events, OutputArea);\n",
       "    }\n",
       "  }\n",
       "\n",
       "  \n",
       "  if (typeof (root._bokeh_timeout) === \"undefined\" || force === true) {\n",
       "    root._bokeh_timeout = Date.now() + 5000;\n",
       "    root._bokeh_failed_load = false;\n",
       "  }\n",
       "\n",
       "  var NB_LOAD_WARNING = {'data': {'text/html':\n",
       "     \"<div style='background-color: #fdd'>\\n\"+\n",
       "     \"<p>\\n\"+\n",
       "     \"BokehJS does not appear to have successfully loaded. If loading BokehJS from CDN, this \\n\"+\n",
       "     \"may be due to a slow or bad network connection. Possible fixes:\\n\"+\n",
       "     \"</p>\\n\"+\n",
       "     \"<ul>\\n\"+\n",
       "     \"<li>re-rerun `output_notebook()` to attempt to load from CDN again, or</li>\\n\"+\n",
       "     \"<li>use INLINE resources instead, as so:</li>\\n\"+\n",
       "     \"</ul>\\n\"+\n",
       "     \"<code>\\n\"+\n",
       "     \"from bokeh.resources import INLINE\\n\"+\n",
       "     \"output_notebook(resources=INLINE)\\n\"+\n",
       "     \"</code>\\n\"+\n",
       "     \"</div>\"}};\n",
       "\n",
       "  function display_loaded() {\n",
       "    var el = document.getElementById(\"1250\");\n",
       "    if (el != null) {\n",
       "      el.textContent = \"BokehJS is loading...\";\n",
       "    }\n",
       "    if (root.Bokeh !== undefined) {\n",
       "      if (el != null) {\n",
       "        el.textContent = \"BokehJS \" + root.Bokeh.version + \" successfully loaded.\";\n",
       "      }\n",
       "    } else if (Date.now() < root._bokeh_timeout) {\n",
       "      setTimeout(display_loaded, 100)\n",
       "    }\n",
       "  }\n",
       "\n",
       "\n",
       "  function run_callbacks() {\n",
       "    try {\n",
       "      root._bokeh_onload_callbacks.forEach(function(callback) {\n",
       "        if (callback != null)\n",
       "          callback();\n",
       "      });\n",
       "    } finally {\n",
       "      delete root._bokeh_onload_callbacks\n",
       "    }\n",
       "    console.debug(\"Bokeh: all callbacks have finished\");\n",
       "  }\n",
       "\n",
       "  function load_libs(css_urls, js_urls, callback) {\n",
       "    if (css_urls == null) css_urls = [];\n",
       "    if (js_urls == null) js_urls = [];\n",
       "\n",
       "    root._bokeh_onload_callbacks.push(callback);\n",
       "    if (root._bokeh_is_loading > 0) {\n",
       "      console.debug(\"Bokeh: BokehJS is being loaded, scheduling callback at\", now());\n",
       "      return null;\n",
       "    }\n",
       "    if (js_urls == null || js_urls.length === 0) {\n",
       "      run_callbacks();\n",
       "      return null;\n",
       "    }\n",
       "    console.debug(\"Bokeh: BokehJS not loaded, scheduling load and callback at\", now());\n",
       "    root._bokeh_is_loading = css_urls.length + js_urls.length;\n",
       "\n",
       "    function on_load() {\n",
       "      root._bokeh_is_loading--;\n",
       "      if (root._bokeh_is_loading === 0) {\n",
       "        console.debug(\"Bokeh: all BokehJS libraries/stylesheets loaded\");\n",
       "        run_callbacks()\n",
       "      }\n",
       "    }\n",
       "\n",
       "    function on_error() {\n",
       "      console.error(\"failed to load \" + url);\n",
       "    }\n",
       "\n",
       "    for (var i = 0; i < css_urls.length; i++) {\n",
       "      var url = css_urls[i];\n",
       "      const element = document.createElement(\"link\");\n",
       "      element.onload = on_load;\n",
       "      element.onerror = on_error;\n",
       "      element.rel = \"stylesheet\";\n",
       "      element.type = \"text/css\";\n",
       "      element.href = url;\n",
       "      console.debug(\"Bokeh: injecting link tag for BokehJS stylesheet: \", url);\n",
       "      document.body.appendChild(element);\n",
       "    }\n",
       "\n",
       "    for (var i = 0; i < js_urls.length; i++) {\n",
       "      var url = js_urls[i];\n",
       "      var element = document.createElement('script');\n",
       "      element.onload = on_load;\n",
       "      element.onerror = on_error;\n",
       "      element.async = false;\n",
       "      element.src = url;\n",
       "      console.debug(\"Bokeh: injecting script tag for BokehJS library: \", url);\n",
       "      document.head.appendChild(element);\n",
       "    }\n",
       "  };var element = document.getElementById(\"1250\");\n",
       "  if (element == null) {\n",
       "    console.error(\"Bokeh: ERROR: autoload.js configured with elementid '1250' but no matching script tag was found. \")\n",
       "    return false;\n",
       "  }\n",
       "\n",
       "  function inject_raw_css(css) {\n",
       "    const element = document.createElement(\"style\");\n",
       "    element.appendChild(document.createTextNode(css));\n",
       "    document.body.appendChild(element);\n",
       "  }\n",
       "\n",
       "  var js_urls = [\"https://cdn.pydata.org/bokeh/release/bokeh-1.3.4.min.js\", \"https://cdn.pydata.org/bokeh/release/bokeh-widgets-1.3.4.min.js\", \"https://cdn.pydata.org/bokeh/release/bokeh-tables-1.3.4.min.js\", \"https://cdn.pydata.org/bokeh/release/bokeh-gl-1.3.4.min.js\"];\n",
       "  var css_urls = [];\n",
       "\n",
       "  var inline_js = [\n",
       "    function(Bokeh) {\n",
       "      Bokeh.set_log_level(\"info\");\n",
       "    },\n",
       "    \n",
       "    function(Bokeh) {\n",
       "      \n",
       "    },\n",
       "    function(Bokeh) {} // ensure no trailing comma for IE\n",
       "  ];\n",
       "\n",
       "  function run_inline_js() {\n",
       "    \n",
       "    if ((root.Bokeh !== undefined) || (force === true)) {\n",
       "      for (var i = 0; i < inline_js.length; i++) {\n",
       "        inline_js[i].call(root, root.Bokeh);\n",
       "      }if (force === true) {\n",
       "        display_loaded();\n",
       "      }} else if (Date.now() < root._bokeh_timeout) {\n",
       "      setTimeout(run_inline_js, 100);\n",
       "    } else if (!root._bokeh_failed_load) {\n",
       "      console.log(\"Bokeh: BokehJS failed to load within specified timeout.\");\n",
       "      root._bokeh_failed_load = true;\n",
       "    } else if (force !== true) {\n",
       "      var cell = $(document.getElementById(\"1250\")).parents('.cell').data().cell;\n",
       "      cell.output_area.append_execute_result(NB_LOAD_WARNING)\n",
       "    }\n",
       "\n",
       "  }\n",
       "\n",
       "  if (root._bokeh_is_loading === 0) {\n",
       "    console.debug(\"Bokeh: BokehJS loaded, going straight to plotting\");\n",
       "    run_inline_js();\n",
       "  } else {\n",
       "    load_libs(css_urls, js_urls, function() {\n",
       "      console.debug(\"Bokeh: BokehJS plotting callback run at\", now());\n",
       "      run_inline_js();\n",
       "    });\n",
       "  }\n",
       "}(window));"
      ],
      "application/vnd.bokehjs_load.v0+json": "\n(function(root) {\n  function now() {\n    return new Date();\n  }\n\n  var force = true;\n\n  if (typeof root._bokeh_onload_callbacks === \"undefined\" || force === true) {\n    root._bokeh_onload_callbacks = [];\n    root._bokeh_is_loading = undefined;\n  }\n\n  \n\n  \n  if (typeof (root._bokeh_timeout) === \"undefined\" || force === true) {\n    root._bokeh_timeout = Date.now() + 5000;\n    root._bokeh_failed_load = false;\n  }\n\n  var NB_LOAD_WARNING = {'data': {'text/html':\n     \"<div style='background-color: #fdd'>\\n\"+\n     \"<p>\\n\"+\n     \"BokehJS does not appear to have successfully loaded. If loading BokehJS from CDN, this \\n\"+\n     \"may be due to a slow or bad network connection. Possible fixes:\\n\"+\n     \"</p>\\n\"+\n     \"<ul>\\n\"+\n     \"<li>re-rerun `output_notebook()` to attempt to load from CDN again, or</li>\\n\"+\n     \"<li>use INLINE resources instead, as so:</li>\\n\"+\n     \"</ul>\\n\"+\n     \"<code>\\n\"+\n     \"from bokeh.resources import INLINE\\n\"+\n     \"output_notebook(resources=INLINE)\\n\"+\n     \"</code>\\n\"+\n     \"</div>\"}};\n\n  function display_loaded() {\n    var el = document.getElementById(\"1250\");\n    if (el != null) {\n      el.textContent = \"BokehJS is loading...\";\n    }\n    if (root.Bokeh !== undefined) {\n      if (el != null) {\n        el.textContent = \"BokehJS \" + root.Bokeh.version + \" successfully loaded.\";\n      }\n    } else if (Date.now() < root._bokeh_timeout) {\n      setTimeout(display_loaded, 100)\n    }\n  }\n\n\n  function run_callbacks() {\n    try {\n      root._bokeh_onload_callbacks.forEach(function(callback) {\n        if (callback != null)\n          callback();\n      });\n    } finally {\n      delete root._bokeh_onload_callbacks\n    }\n    console.debug(\"Bokeh: all callbacks have finished\");\n  }\n\n  function load_libs(css_urls, js_urls, callback) {\n    if (css_urls == null) css_urls = [];\n    if (js_urls == null) js_urls = [];\n\n    root._bokeh_onload_callbacks.push(callback);\n    if (root._bokeh_is_loading > 0) {\n      console.debug(\"Bokeh: BokehJS is being loaded, scheduling callback at\", now());\n      return null;\n    }\n    if (js_urls == null || js_urls.length === 0) {\n      run_callbacks();\n      return null;\n    }\n    console.debug(\"Bokeh: BokehJS not loaded, scheduling load and callback at\", now());\n    root._bokeh_is_loading = css_urls.length + js_urls.length;\n\n    function on_load() {\n      root._bokeh_is_loading--;\n      if (root._bokeh_is_loading === 0) {\n        console.debug(\"Bokeh: all BokehJS libraries/stylesheets loaded\");\n        run_callbacks()\n      }\n    }\n\n    function on_error() {\n      console.error(\"failed to load \" + url);\n    }\n\n    for (var i = 0; i < css_urls.length; i++) {\n      var url = css_urls[i];\n      const element = document.createElement(\"link\");\n      element.onload = on_load;\n      element.onerror = on_error;\n      element.rel = \"stylesheet\";\n      element.type = \"text/css\";\n      element.href = url;\n      console.debug(\"Bokeh: injecting link tag for BokehJS stylesheet: \", url);\n      document.body.appendChild(element);\n    }\n\n    for (var i = 0; i < js_urls.length; i++) {\n      var url = js_urls[i];\n      var element = document.createElement('script');\n      element.onload = on_load;\n      element.onerror = on_error;\n      element.async = false;\n      element.src = url;\n      console.debug(\"Bokeh: injecting script tag for BokehJS library: \", url);\n      document.head.appendChild(element);\n    }\n  };var element = document.getElementById(\"1250\");\n  if (element == null) {\n    console.error(\"Bokeh: ERROR: autoload.js configured with elementid '1250' but no matching script tag was found. \")\n    return false;\n  }\n\n  function inject_raw_css(css) {\n    const element = document.createElement(\"style\");\n    element.appendChild(document.createTextNode(css));\n    document.body.appendChild(element);\n  }\n\n  var js_urls = [\"https://cdn.pydata.org/bokeh/release/bokeh-1.3.4.min.js\", \"https://cdn.pydata.org/bokeh/release/bokeh-widgets-1.3.4.min.js\", \"https://cdn.pydata.org/bokeh/release/bokeh-tables-1.3.4.min.js\", \"https://cdn.pydata.org/bokeh/release/bokeh-gl-1.3.4.min.js\"];\n  var css_urls = [];\n\n  var inline_js = [\n    function(Bokeh) {\n      Bokeh.set_log_level(\"info\");\n    },\n    \n    function(Bokeh) {\n      \n    },\n    function(Bokeh) {} // ensure no trailing comma for IE\n  ];\n\n  function run_inline_js() {\n    \n    if ((root.Bokeh !== undefined) || (force === true)) {\n      for (var i = 0; i < inline_js.length; i++) {\n        inline_js[i].call(root, root.Bokeh);\n      }if (force === true) {\n        display_loaded();\n      }} else if (Date.now() < root._bokeh_timeout) {\n      setTimeout(run_inline_js, 100);\n    } else if (!root._bokeh_failed_load) {\n      console.log(\"Bokeh: BokehJS failed to load within specified timeout.\");\n      root._bokeh_failed_load = true;\n    } else if (force !== true) {\n      var cell = $(document.getElementById(\"1250\")).parents('.cell').data().cell;\n      cell.output_area.append_execute_result(NB_LOAD_WARNING)\n    }\n\n  }\n\n  if (root._bokeh_is_loading === 0) {\n    console.debug(\"Bokeh: BokehJS loaded, going straight to plotting\");\n    run_inline_js();\n  } else {\n    load_libs(css_urls, js_urls, function() {\n      console.debug(\"Bokeh: BokehJS plotting callback run at\", now());\n      run_inline_js();\n    });\n  }\n}(window));"
     },
     "metadata": {},
     "output_type": "display_data"
    },
    {
     "data": {
      "image/png": "[encoded data removed]",
      "text/plain": [
       "<Figure size 864x864 with 1 Axes>"
      ]
     },
     "metadata": {
      "needs_background": "light"
     },
     "output_type": "display_data"
    }
   ],
   "source": [
    "_ = coords_df.plot.scatter('x', 'y', figsize=(12,12), marker='.', s=10, alpha=0.2)\n",
    "output_notebook() # output bokeh plots inline in notebook"
   ]
  },
  {
   "cell_type": "code",
   "execution_count": 26,
   "metadata": {},
   "outputs": [],
   "source": [
    "subset_df = coords_df.sample(n=len(X))\n",
    "p = figure(plot_width=800, plot_height=800)\n",
    "_ = p.text(x=subset_df.x, y=subset_df.y, text=subset_df.token)"
   ]
  },
  {
   "cell_type": "code",
   "execution_count": 27,
   "metadata": {},
   "outputs": [
    {
     "data": {
      "text/html": [
       "\n",
       "\n",
       "\n",
       "\n",
       "\n",
       "\n",
       "  <div class=\"bk-root\" id=\"9ca42360-6ed2-41ad-beff-838cea5f592f\" data-root-id=\"1251\"></div>\n"
      ]
     },
     "metadata": {},
     "output_type": "display_data"
    },
    {
     "data": {
      "application/javascript": [
       "(function(root) {\n",
       "  function embed_document(root) {\n",
       "    \n",
       "  var docs_json = {\"55bec1b4-a1fb-4153-94e0-49ea7b723367\":{\"roots\":{\"references\":[{\"attributes\":{\"below\":[{\"id\":\"1260\",\"type\":\"LinearAxis\"}],\"center\":[{\"id\":\"1264\",\"type\":\"Grid\"},{\"id\":\"1269\",\"type\":\"Grid\"}],\"left\":[{\"id\":\"1265\",\"type\":\"LinearAxis\"}],\"plot_height\":800,\"plot_width\":800,\"renderers\":[{\"id\":\"1286\",\"type\":\"GlyphRenderer\"}],\"title\":{\"id\":\"1306\",\"type\":\"Title\"},\"toolbar\":{\"id\":\"1276\",\"type\":\"Toolbar\"},\"x_range\":{\"id\":\"1252\",\"type\":\"DataRange1d\"},\"x_scale\":{\"id\":\"1256\",\"type\":\"LinearScale\"},\"y_range\":{\"id\":\"1254\",\"type\":\"DataRange1d\"},\"y_scale\":{\"id\":\"1258\",\"type\":\"LinearScale\"}},\"id\":\"1251\",\"subtype\":\"Figure\",\"type\":\"Plot\"},{\"attributes\":{\"callback\":null},\"id\":\"1252\",\"type\":\"DataRange1d\"},{\"attributes\":{},\"id\":\"1258\",\"type\":\"LinearScale\"},{\"attributes\":{\"active_drag\":\"auto\",\"active_inspect\":\"auto\",\"active_multi\":null,\"active_scroll\":\"auto\",\"active_tap\":\"auto\",\"tools\":[{\"id\":\"1270\",\"type\":\"PanTool\"},{\"id\":\"1271\",\"type\":\"WheelZoomTool\"},{\"id\":\"1272\",\"type\":\"BoxZoomTool\"},{\"id\":\"1273\",\"type\":\"SaveTool\"},{\"id\":\"1274\",\"type\":\"ResetTool\"},{\"id\":\"1275\",\"type\":\"HelpTool\"}]},\"id\":\"1276\",\"type\":\"Toolbar\"},{\"attributes\":{},\"id\":\"1273\",\"type\":\"SaveTool\"},{\"attributes\":{\"ticker\":{\"id\":\"1261\",\"type\":\"BasicTicker\"}},\"id\":\"1264\",\"type\":\"Grid\"},{\"attributes\":{},\"id\":\"1256\",\"type\":\"LinearScale\"},{\"attributes\":{\"dimension\":1,\"ticker\":{\"id\":\"1266\",\"type\":\"BasicTicker\"}},\"id\":\"1269\",\"type\":\"Grid\"},{\"attributes\":{\"text_alpha\":{\"value\":0.1},\"text_color\":{\"value\":\"black\"},\"x\":{\"field\":\"x\"},\"y\":{\"field\":\"y\"}},\"id\":\"1285\",\"type\":\"Text\"},{\"attributes\":{\"callback\":null,\"data\":{\"text\":[\"2nd\",\"\\u0aa8\\u0ab0\\u0ac7\\u0aa8\\u0acd\\u0aa6\\u0acd\\u0ab0 \\u0aaa\\u0a9f\\u0ac7\\u0ab2\",\"1st\",\"\\u0aa1\\u0ac9 \\u0aae\\u0ac7\\u0ab9\\u0ac1\\u0ab2 \\u0aac\\u0abe\\u0ab0\\u0acb\\u0a9f\",\"full\",\"\\u0a8f\\u0ab2\\u0aa1\\u0ac0\\u0a86\\u0ab0\\u0aaa\\u0ac0\\u0aae\\u0abe\\u0a82\\u0ab8\\u0abf\\u0ab5\\u0abf\\u0ab2\",\"students\",\"kh-5, \\u0ab8\\u0ac7\\u0a95\\u0acd\\u0a9f\\u0ab0 -\\u0ae7\\u0aeb, \\u0a97\\u0abe\\u0a82\\u0aa7\\u0ac0\\u0aa8\\u0a97\\u0ab0 \\u2013\\u0ae9\\u0aee\\u0ae8\\u0ae6\\u0ae7\\u0aeb\",\"\\u0aae\\u0ac7\\u0a98\\u0abe \\u0aad\\u0a9f\\u0acd\\u0a9f\",\"500+\",\"10 \\u0aa5\\u0ac0 \\u0aea\",\"two\",\"\\u0a85\\u0aad\\u0acd\\u0aaf\\u0abe\\u0ab8\\u0a95\\u0acd\\u0ab0\\u0aae\\u0acb\",\"\\u0ab2\\u0abe\\u0ab5\\u0ab5\\u0abe\",\"BSE\",\"\\u0a9c\\u0aaf\\u0ac7\\u0ab6 \\u0aa6\\u0ac7\\u0ab8\\u0abe\\u0a87\",\"\\u0aae\\u0ac1\\u0a9c\\u0aac\\u0a9c\",\"hostel\",\"\\u0a9c\\u0ac0\\u0aac\\u0ac0/\\u0ab8\\u0ac7\\u0a95\\u0aa8\\u0acd\\u0aa1\",\"\\u0a86\\u0aaa\\u0ac7\\u0a9b\\u0ac7\",\"electrical\\u0aa8\\u0ac0\",\"\\u0a9a\\u0abe\\u0ab2\\u0aa4\\u0abe\",\"\\u0a8f\\u0aae\\u0a8f\\u0ab8\\u0ab8\\u0ac0\",\"\\u0a89\\u0aaa\\u0aaf\\u0acb\\u0a97\",\"canteen\",\"\\u0aa1\\u0abf\\u0aaa\\u0abe\\u0ab0\\u0acd\\u0a9f\\u0aae\\u0ac7\\u0aa8\\u0acd\\u0a9f\\u0aa8\\u0ac0\",\"Address\",\"\\u0a86\\u0ab5\\u0ac7\\u0ab2\\u0ac1\\u0a82\",\"\\u0ab9\\u0acb\\u0aaf\",\"\\u0a87\\u0ab2\\u0ac7\\u0a95\\u0acd\\u0a9f\\u0acd\\u0ab0\\u0abf\\u0a95\\u0ab2 \\u0ab8\\u0ac7\\u0aae\\u0ac0\\u0aa8\\u0abe\\u0ab0 \\u0ab9\\u0ac9\\u0ab2\",\"\\u0a86\\u0a9a\\u0abe\\u0ab0\\u0acd\\u0aaf\",\"college\\u0aa8\\u0ac1\\u0a82\",\"\\u0a9c\\u0ab6\\u0ac7\",\"\\u0aab\\u0ac0\",\"civil\",\"\\u0ae8\\u0ae6\\u0ae6\\u0aeb-\\u0ae6\\u0aec\",\"\\u0ab8\\u0ab0\\u0aa8\\u0abe\\u0aae\\u0ac1\\u0a82\",\"\\u0a93\\u0aab\\u0ac0\\u0ab8\\u0ab0\",\"\\u0a8f\\u0a9f\\u0ac0\\u0a8f\\u0aae\",\"\\u0ab8\\u0abe\\u0aaf\\u0aa8\\u0acd\\u0ab8 \\u0a8f\\u0aa8\\u0acd\\u0aa1 \\u0ab9\\u0acd\\u0aaf\\u0ac1\\u0aae\\u0aa8\\u0ac0\\u0a9f\\u0ac0\\u0ab8\",\"fee\",\"\\u0a85\\u0aad\\u0acd\\u0aaf\\u0abe\\u0ab8\\u0a95\\u0acd\\u0ab0\",\"\\u0a9c\\u0ac0\\u0a86\\u0a88\\u0aaa\\u0ac0\\u0a8f\\u0ab2\",\"ldrp\\u0aae\\u0abe\\u0a82\\u0ab8\\u0abf\\u0ab5\\u0abf\\u0ab2\",\"\\u0a97\\u0abe\\u0a82\\u0aa7\\u0ac0\\u0aa8\\u0a97\\u0ab0\\u0aae\\u0abe\\u0a82\",\"\\u0ab8\\u0ab0\\u0abe\",\"8 to \\u0ae8\",\"\\u0ab9\\u0acb\\u0ab8\\u0acd\\u0a9f\\u0ac7\\u0ab2\\u0aae\\u0abe\\u0a82\",\"\\u0a95\\u0aae\\u0acd\\u0aaa\\u0acd\\u0aaf\\u0ac2\\u0a9f\\u0ab0\\u0aa8\\u0abe\",\"MCA\",\"\\u0ab8\\u0aae\\u0a97\\u0acd\\u0ab0\",\"\\u0a95\\u0ab0\\u0ab5\\u0abe\",\"\\u0aad\\u0aa3\\u0abe\\u0ab5\\u0ab5\\u0abe\\u0aae\\u0abe\\u0a82\",\"\\u0a8f\\u0ab2\\u0aa1\\u0ac0\\u0a86\\u0ab0\\u0aaa\\u0ac0\\u0aa8\\u0abe\",\"\\u0a8f\\u0aae\",\"add\",\"\\u0aaa\\u0acd\\u0ab0\\u0abe\\u0aaa\\u0acd\\u0aa4\",\"\\u0a87\\u0ab2\\u0ac7\\u0a95\\u0acd\\u0a9f\\u0acd\\u0ab0\\u0abf\\u0a95\\u0ab2\\u0aa8\\u0abe\",\"\\u0ab8\\u0ac7\\u0a95\\u0a82\\u0aa1\",\"\\u0a9f\\u0ac0\\u0a8f\\u0a9f\\u0ac0\\u0a86\\u0a88\\u0a9f\\u0ac0\\u0a8f\\u0aa8\",\"\\u0a86\\u0ab5\\u0ac7\",\"\\u0aa5\\u0abe\\u0aaf\",\"\\u0a95\\u0acb\\u0ab2\\u0ac7\\u0a9c\\u0aa8\\u0abe\",\"\\u0aa6\\u0ab0\\u0ac7\\u0a95\",\"\\u0a86\\u0a87\\u0a97\\u0ac7\\u0a9f \\u0aaa\\u0a9f\\u0aa8\\u0ac0\",\"NRI\",\"\\u0aaa\\u0ab2\\u0a95 \\u0aaa\\u0ab0\\u0aae\\u0abe\\u0ab0\",\"4\",\"200+\",\"\\u0ab5\\u0ac8\\u0ab6\\u0abe\\u0ab2\\u0ac0 \\u0aaa\\u0a9f\\u0ac7\\u0ab2\",\"\\u0a9c\\u0aaf\\u0aa8\\u0abe \\u0a95\\u0aa8\\u0ac7\\u0ab0\\u0abf\\u0aaf\\u0abe\",\"\\u0ab8\\u0ab0\\u0ab8\",\"\\u0a86\\u0ab0\\u0acd\\u0a97\\u0ac1\\u0ab8\\u0acb\\u0aab\\u0acd\\u0a9f\",\"\\u0aa8\\u0a95\\u0acd\\u0a95\\u0ac0\",\"\\u0aa4\\u0aae\\u0abe\\u0aae\",\"8\",\"\\u0ab6\\u0abf\\u0aab\\u0acd\\u0a9f\",\"\\u0a9c\\u0abe\\u0ab9\\u0acd\\u0aa8\\u0ab5\\u0ac0 \\u0a97\\u0a9c\\u0acd\\u0a9c\\u0ab0\",\"\\u0a95\\u0acb\\u0ab2\\u0ac7\\u0a9c\",\"\\u0a8f\\u0ab2\\u0aa1\\u0ac0\\u0a86\\u0ab0\\u0aaa\\u0ac0\\u0a8f\",\"mechanical\\u0aa8\\u0ac0\",\"study \\u0a95\\u0ab0\\u0abe\\u0ab5\\u0ac7\",\"project\",\"\\u0a8f\\u0a9f\\u0ac0\\u0a8f\\u0aae\\u0aa8\\u0ac0\",\"ldrp\\u0aa8\\u0abe\\u0a82\",\"\\u0aa8\\u0abe\\u0aae\",\"g-5\",\"gandhinagar\\u0aae\\u0abe\\u0a82\",\"\\u0aa1\\u0ac9 \\u0a95\\u0abf\\u0ab0\\u0aa3 \\u0aaa\\u0a9f\\u0ac7\\u0ab2\",\"\\u0a95\\u0acb\\u0a97\\u0acd\\u0aa8\\u0abf\\u0a9d\\u0ac7\\u0aa8\\u0acd\\u0a9f\",\"\\u0a86\\u0ab5\\u0ab0\\u0ac0\",\"\\u0aaa\\u0ab0\\u0acd\\u0ab8\\u0abf\\u0aa8\\u0acd\\u0a9f\\u0aa8\\u0acd\\u0a9f\",\"\\u0ab8\\u0acd\\u0aaa\\u0ac0\\u0aa1\",\"\\u0aaa\\u0abe\\u0ab0\\u0acd\\u0a9f\\u0aa8\\u0ab0\\u0acd\\u0ab8\",\"88,000/year\",\"\\u0aae\\u0ac7\\u0ab3\\u0ab5\\u0ab5\\u0abe\\u0aae\\u0abe\\u0a82\",\"\\u0a95\\u0a82\\u0aa1\\u0ac0\\u0ab6\\u0aa8\",\"\\u0aa1\\u0ac9 \\u0a95\\u0acc\\u0ab6\\u0ab2 \\u0aad\\u0abe\\u0ab5\\u0ab8\\u0abe\\u0ab0\",\"\\u0aa6\\u0ac1\\u0ab7\\u0acd\\u0aaf\\u0a82\\u0aa4 \\u0a9a\\u0abe\\u0ab5\\u0aa1\\u0abe\",\"\\u0ab8\\u0abf\\u0a82\\u0a9f\\u0ac7\\u0ab2\",\"\\u0a95\\u0ac1\\u0ab2\",\"\\u0a95\\u0ab0\\u0ab5\\u0abe\\u0aae\\u0abe\\u0a82\",\"\\u0aaa\\u0acd\\u0ab0\\u0acb\\u0aa4\\u0acd\\u0ab8\\u0abe\\u0ab9\\u0abf\\u0aa4\",\"\\u0a87\\u0ab2\\u0ac7\\u0a95\\u0acd\\u0a9f\\u0acd\\u0ab0\\u0abf\\u0a95\\u0ab2\\u0aa8\\u0abe\\u0a82\",\"\\u0ab8\\u0ac7\\u0aae\\u0abf\\u0aa8\\u0abe\\u0ab0\",\"\\u0a86\\u0ab5\\u0ac7\\u0ab2\",\"\\u0ab9\\u0abf\\u0aa4\\u0ac7\\u0ab6 \\u0aac\\u0abe\\u0ab0\\u0acb\\u0a9f\",\"\\u0aaa\\u0a9f\\u0ac7\\u0ab2\",\"\\u0aa8\\u0ac0\\u0ab2 \\u0a9c\\u0acb\\u0ab6\\u0ac0\",\"\\u0a9f\\u0ac7\\u0a97\\u0abe \\u0a87\\u0aa8\\u0acd\\u0aa1\\u0ab8\\u0acd\\u0a9f\\u0acd\\u0ab0\\u0ac0\\u0a9d\",\"\\u0aac\\u0acd\\u0ab0\\u0abe\\u0a82\\u0a9a\",\"MBA\",\"\\u0ab8\\u0abf\\u0ab5\\u0abf\\u0ab2\\u0aa8\\u0abe\",\"\\u0aae\\u0acc\\u0aa8\\u0ac0 \\u0aae\\u0acb\\u0aa6\\u0ac0\",\"\\u0a95\\u0aae\\u0acd\\u0aaa\\u0acd\\u0aaf\\u0ac2\\u0a9f\\u0ab0\\u0aa8\\u0ac0\",\"\\u0aac\\u0ac0\",\"\\u0ab0\\u0abf\\u0aa7\\u0acd\\u0aa7\\u0abf \\u0aaa\\u0a9f\\u0ac7\\u0ab2\",\"\\u0ab5\\u0abe\\u0a87\\u0aab\\u0abe\\u0a87\",\"\\u0a95\\u0ac7\\u0aa8\\u0acd\\u0a9f\\u0ac0\\u0aa8\\u0aa8\\u0ac0\",\"\\u0a8f\\u0ab0\",\"2005-06\",\"ldrp\\u0aa8\\u0ac7\",\"\\u0a9f\\u0ac0\\u0ab8\\u0ac0\\u0a8f\\u0ab8\",\"\\u0aaa\\u0acd\\u0ab0\\u0acb\\u0a9c\\u0ac7\\u0a95\\u0acd\\u0a9f\",\"\\u0a95\\u0ab0\\u0abe\\u0aaf\\u0acb\",\"civil\\u0aa8\\u0ac0\",\"\\u0aa1\\u0acb \\u0ab8\\u0a82\\u0a9c\\u0aaf \\u0ab5\\u0acd\\u0aaf\\u0abe\\u0ab8\",\"\\u0aad\\u0aa3\\u0abe\\u0ab5\\u0ac7\",\"\\u0aa1\\u0acb\\u0a97\\u0abe\\u0ab0\\u0acd\\u0a97\\u0ac0 \\u0ab0\\u0abe\\u0a9c\\u0aaa\\u0ab0\\u0abe\",\"\\u0aaa\\u0acd\\u0ab0\\u0acb\\u0a9c\\u0ac7\\u0a95\\u0acd\\u0a9f\\u0acd\\u0ab8\",\"seminar\",\"\\u0a9c\\u0a97\\u0acd\\u0aaf\\u0abe\\u0a8f\",\"\\u0ae7\\u0ae8\\u0ae6\",\"\\u0ab6\\u0a95\\u0abe\\u0ab6\\u0ac7\",\"\\u0a8f\\u0a9a\\u0a93\\u0aa1\\u0ac0\",\"\\u0aaa\\u0acd\\u0ab0\\u0ac7\\u0ab0\\u0abf\\u0aa4\",\"\\u0a95\\u0aae\\u0acd\\u0aaa\\u0acd\\u0aaf\\u0ac2\\u0a9f\\u0ab0\",\"\\u0aaa\\u0acd\\u0ab0\\u0aae\\u0abe\\u0aa3\\u0ac7\",\"IT\\u0aa8\\u0ac0\",\"faculty\",\"\\u0aab\\u0ac7\\u0a95\\u0ab2\\u0acd\\u0a9f\\u0ac0\\u0a93\",\"\\u0a95\\u0ab2\\u0acd\\u0aaf\\u0abe\\u0aa3\\u0ac0\",\"ME\",\"\\u0a89\\u0aaa\\u0ab2\\u0aac\\u0acd\\u0aa7\",\"\\u0a85\\u0a82\\u0a95\\u0abf\\u0aa4 \\u0aaa\\u0a9f\\u0ac7\\u0ab2\",\"campus\\u0aae\\u0abe\\u0a82\",\"12,000/year\",\"\\u0ab2\\u0ac0\\u0ab2\\u0abe\\u0aac\\u0ac7\\u0aa8 \\u0aa6\\u0ab6\\u0ab0\\u0aa5\\u0aad\\u0abe\\u0a88 \\u0ab0\\u0abe\\u0aae\\u0aa6\\u0abe\\u0ab8 \\u0aaa\\u0a9f\\u0ac7\\u0ab2\",\"information technology\",\"\\u0a9c\\u0aa8\\u0a95 \\u0a9f\\u0abe\\u0a82\\u0a95\",\"\\u0aaa\\u0acd\\u0ab2\\u0ac7\\u0ab8\\u0aae\\u0ac7\\u0aa8\\u0acd\\u0a9f\\u0aae\\u0abe\\u0a82\",\"\\u0a9c\\u0ab0\\u0ac2\\u0ab0\\u0ac0\",\"\\u0aae\\u0ab3\\u0ac0\",\"\\u0a8f\",\"\\u0ab9\\u0acb\\u0ab8\\u0acd\\u0a9f\\u0ac7\\u0ab2\\u0aa8\\u0ac0\",\"\\u0ab8\\u0abe\\u0aa4\",\"\\u0aac\\u0acb\\u0ab8\\u0a9a\",\"\\u0a95\\u0acb\\u0ab2\\u0ac7\\u0a9c\\u0aa8\\u0ac0\",\"\\u0aa8\\u0abe\\u0aae\\u0aa8\\u0ac0\",\"wwwldrpacin\",\"Management\",\"\\u0a8f\\u0ab2\\u0aa1\\u0ac0\\u0a86\\u0ab0\\u0aaa\\u0ac0\\u0aa8\\u0ac1\\u0a82\",\"stationary\\u0aae\\u0abe\\u0a82\",\"study\",\"\\u0ab8\\u0ab9\\u0abe\\u0aaf\",\"officer\",\"\\u0aaa\\u0acd\\u0ab0\\u0a95\\u0abe\\u0ab6 \\u0ab6\\u0abe\\u0ab9\",\"\\u0a95\\u0a82\\u0aaa\\u0aa8\\u0ac0\",\"\\u0aaa\\u0acd\\u0ab0\\u0a95\\u0acd\\u0ab0\\u0abf\\u0aaf\\u0abe\",\"\\u0a8f\\u0ab2\\u0aa1\\u0ac0\\u0a86\\u0ab0\\u0aaa\\u0ac0\\u0aae\\u0abe\\u0a82\",\"\\u0ab9\\u0ac7\\u0aa1\",\"department\\u0aa8\\u0ac0\",\"bus\",\"time\",\"\\u0a87\\u0a8f\\u0ab8\\u0a8f\\u0ab8\\u0a8f\\u0a86\\u0ab0\",\"\\u0ab9\\u0ac7\\u0aa0\\u0ab3\",\"\\u0aa7\\u0aa8\\u0a82\\u0a9c\\u0aaf \\u0a9c\\u0acb\\u0ab6\\u0ac0\",\"BE\",\"\\u0a85\\u0aad\\u0acd\\u0aaf\\u0abe\\u0ab8\",\"engineering\\u0aa8\\u0ac0\",\"\\u0ab8\\u0ab5\\u0abe\\u0ab0 8 \\u0aa5\\u0ac0 \\u0aac\\u0aaa\\u0acb\\u0ab0\\u0aa8\\u0abe 2\",\"\\u0aa1\\u0ac9 \\u0ab8\\u0a82\\u0a9c\\u0aaf \\u0aaa\\u0a9f\\u0ac7\\u0ab2\",\"\\u0aae\\u0abf\\u0a95\\u0ac7\\u0aa8\\u0ac0\\u0a95\\u0ab2\\u0aa8\\u0ac0\",\"\\u0ab8\\u0ac1\\u0ab5\\u0abf\\u0aa7\\u0abe\",\"computer\",\"\\u0aa7\\u0ab0\\u0abe\\u0ab5\\u0aa4\\u0acb\",\"placement\",\"AC\",\"\\u0aaa\\u0acd\\u0ab0\\u0abe\\u0aa7\\u0acd\\u0aaf\\u0abe\\u0aaa\\u0a95\",\"\\u0a8f\\u0aae\\u0aab\\u0abe\\u0ab8\\u0ac0\\u0ab8\",\"\\u0aae\\u0ac3\\u0aa3\\u0abe\\u0ab2 \\u0aaa\\u0a82\\u0aa1\\u0acd\\u0aaf\\u0abe\",\"2008\",\"\\u0aa1\\u0abf\\u0aaa\\u0abe\\u0ab0\\u0acd\\u0a9f\\u0aae\\u0ac7\\u0aa8\\u0acd\\u0a9f\\u0aae\\u0abe\\u0a82\",\"\\u0ab8\\u0acd\\u0a9f\\u0ac7\\u0ab6\\u0aa8\\u0ab0\\u0ac0\\u0aa8\\u0ac0\",\"\\u0a96-\\u0aeb, \\u0ab8\\u0ac7\\u0a95\\u0acd\\u0a9f\\u0ab0 -\\u0ae7\\u0aeb, \\u0a97\\u0abe\\u0a82\\u0aa7\\u0ac0\\u0aa8\\u0a97\\u0ab0 \\u2013\\u0ae9\\u0aee\\u0ae8\\u0ae6\\u0ae7\\u0aeb\",\"\\u0aa1\\u0abf\\u0aaa\\u0abe\\u0ab0\\u0acd\\u0a9f\\u0aae\\u0ac7\\u0aa8\\u0acd\\u0a9f\\u0aa8\\u0abe\\u0a82\",\"civil\\u0aae\\u0abe\\u0a82\",\"admission\",\"\\u0ab8\\u0a82\\u0a95\\u0ab3\\u0abe\\u0aaf\\u0ac7\\u0ab2\",\"\\u0a95\\u0ab0\\u0ac0\",\"seven\",\"\\u0aaa\\u0aa3\",\"faculties\\u0a93\",\"\\u0a8f\\u0aa8\\u0acd\\u0a95\\u0ab0\",\"\\u0aa6\\u0ab0\",\"\\u0ae7\",\"Gandhinagar\\u0aae\\u0abe\\u0a82\",\"\\u0aa4\\u0ac7\",\"\\u0aac\\u0ac7\\u0aa0\\u0a95\",\"civil\\u0aa8\\u0abe\\u0a82\",\"\\u0ab9\\u0abf\\u0aae\\u0abe\\u0aa8\\u0ac0 \\u0aa4\\u0acd\\u0ab0\\u0abf\\u0ab5\\u0ac7\\u0aa6\\u0ac0\",\"\\u0aaa\\u0ac1\\u0ab7\\u0acd\\u0aaa\\u0a95 \\u0aaa\\u0a9f\\u0ac7\\u0ab2\",\"\\u0aae\\u0ac7\\u0ab8\\u0aa8\\u0ac0\",\"\\u0aa8\\u0abe\\u0a82\",\"mechanical\\u0aa8\\u0abe\\u0a82\",\"\\u0a8f\\u0aae\\u0ab8\\u0ac0\\u0a8f\",\"\\u0aee \\u0aa5\\u0ac0 2\",\"\\u0a95\\u0aae\\u0acd\\u0aaa\\u0acd\\u0aaf\\u0ac2\\u0a9f\\u0ab0\\u0aae\\u0abe\\u0a82\",\"IT\\u0aae\\u0abe\\u0a82\",\"\\u0a85\\u0aae\\u0ab2\",\"\\u0aac\\u0ac0\\u0a88\",\"\\u0a86\\u0ab5\\u0ac7\\u0ab2\\u0abe\",\"\\u0aae\\u0ab3\\u0ac7\",\"\\u0aa1\\u0ac9 \\u0aa6\\u0abf\\u0ab5\\u0acd\\u0aaf\\u0abe\\u0a82\\u0a97 \\u0aaa\\u0a82\\u0aa1\\u0acd\\u0aaf\\u0abe\",\"Kalupur Bank\",\"\\u0aaa\\u0abe\\u0ab2\\u0ac0\\u0aa8\\u0acb\",\"\\u0ab2\\u0abe\\u0a87\\u0aac\\u0acd\\u0ab0\\u0ac7\\u0ab0\\u0ac0\\u0aae\\u0abe\\u0a82\",\"\\u0a85\\u0aae\\u0ab2\\u0aae\\u0abe\\u0a82\",\"\\u0a9c\\u0ab8\\u0ab5\\u0a82\\u0aa4 \\u0aaa\\u0a9f\\u0ac7\\u0ab2\",\"fixe\",\"computer\\u0aae\\u0abe\\u0a82\",\"\\u0a9c\\u0ac0\\u0a97\\u0ab0 \\u0ab8\\u0ac1\\u0aa5\\u0abe\\u0ab0\",\"\\u0aa4\\u0ac7\\u0ab5\\u0acb\",\"\\u0a87\\u0ab2\\u0ac7\\u0a95\\u0acd\\u0a9f\\u0acd\\u0ab0\\u0abf\\u0a95\\u0ab2\\u0aae\\u0abe\\u0a82\",\"\\u0a89\\u0aae\\u0a82\\u0a97 \\u0aaa\\u0a9f\\u0ac7\\u0ab2\",\"faculties\",\"\\u0ab2\\u0ac7\\u0ab5\\u0abe\\u0aaf\\u0ac1\\u0a82\",\"IT\",\"\\u0a95\\u0abe\\u0ab0\\u0acd\\u0aaf\\u0ab0\\u0aa4\",\"IT\\u0aa8\\u0abe\",\"need\",\"\\u0a9f\\u0acd\\u0ab0\\u0abe\\u0aa8\\u0acd\\u0ab8\\u0aaa\\u0acb\\u0ab0\\u0acd\\u0a9f\\u0aa8\\u0ac0\",\"\\u0a9c\\u0aaf \\u0aaa\\u0a9f\\u0ac7\\u0ab2\",\"\\u0a85\\u0aae\\u0abf\\u0aa4 \\u0aaa\\u0abe\\u0a82\\u0aa1\\u0ac7\",\"\\u0a8f\\u0aa8\\u0a86\\u0ab0\\u0a86\\u0a88\",\"website\",\"\\u0ab0\\u0abf\\u0ab2\\u0ac7\\u0aa8\\u0acd\\u0ab8\",\"department\\u0aae\\u0abe\\u0a82\",\"10 to 4\",\"\\u0a8f\\u0a95\",\"\\u0a95\\u0ac7\\u0aae\\u0acd\\u0aaa\\u0ab8\\u0aae\\u0abe\\u0a82\",\",seat\",\"speed\",\"\\u0ab5\\u0ac7\\u0aac\\u0ab8\\u0abe\\u0a88\\u0a9f\",\"canteen\\u0aa8\\u0ac0\",\"\\u0aae\\u0abe\\u0a9f\\u0ac7\",\"\\u0a95\\u0ac7\\u0aae\\u0acd\\u0aaa\\u0ab8\",\"\\u0ae8\\u0ae6\\u0ae7\\u0ae7\",\"\\u0ab8\\u0aae\\u0aaf\",\"transport\\u0aa8\\u0ac0\",\"\\u0a8f\\u0ab2\\u0aa1\\u0ac0\\u0a86\\u0ab0\\u0aaa\\u0ac0\",\"\\u0aa8\\u0acb\",\"\\u0aae\\u0abf\\u0a95\\u0ac7\\u0aa8\\u0ac0\\u0a95\\u0ab2\\u0aa8\\u0abe\\u0a82\",\"library\\u0aae\\u0abe\\u0a82\",\"seat\",\"capacity\",\"1\",\"\\u0a95\\u0ab0\\u0ac7\\u0ab2\",\"project\\u0aae\\u0abe\\u0a82\",\"\\u0a9c\\u0aa8\\u0ac7\\u0ab8\\u0abf\\u0ab8\",\"computer\\u0aa8\\u0abe\",\"\\u0aae\\u0abf\\u0a95\\u0ac7\\u0aa8\\u0ac0\\u0a95\\u0ab2 \\u0ab8\\u0ac7\\u0aae\\u0ac0\\u0aa8\\u0abe\\u0ab0 \\u0ab9\\u0ac9\\u0ab2\",\"\\u0a9c\\u0ac0\\u0aa4\\u0ac7\\u0aa8\\u0acd\\u0aa6\\u0acd\\u0ab0\\u0ab8\\u0abf\\u0a82\\u0ab9 \\u0ab0\\u0abe\\u0a93\\u0ab2\",\"\\u0ab8\\u0abf\\u0ab5\\u0abf\\u0ab2\\u0aae\\u0abe\\u0a82\",\"120\",\"parking\\u0aa8\\u0ac0\",\"\\u0ab2\\u0abf\\u0aab\\u0acd\\u0a9f\\u0aa8\\u0ac0\",\"principal\",\"\\u0a9b\\u0acb\\u0a95\\u0ab0\\u0ac0\\u0a93\",\"\\u0aae\\u0acc\\u0ab2\\u0abf\\u0a95 \\u0aaa\\u0a82\\u0aa1\\u0acd\\u0aaf\\u0abe\",\"enginnering\",\"\\u0a8f\\u0a95\\u0acd\\u0a9f\\u0abf\\u0ab5\\u0abf\\u0a9f\\u0ac0\",\"\\u0aae\\u0abe\\u0aa8\\u0acb\",\"\\u0aae\\u0ac1\\u0a9c\\u0aac\",\"\\u0ab5\\u0abf\\u0ab6\\u0abe\\u0ab2 \\u0aa8\\u0abe\\u0aaf\\u0a95\",\"\\u0aab\\u0ab0\\u0acd\\u0ab8\\u0acd\\u0a9f\",\"NO\",\"\\u0aa1\\u0ac9 \\u0ab9\\u0abf\\u0aa4\\u0ac7\\u0ab7 \\u0aaa\\u0a9f\\u0ac7\\u0ab2\",\"department\\u0aa8\\u0abe\",\"\\u0aa5\\u0ac0\",\"10 to \\u0aea\",\"college\\u0aa8\\u0ac0\",\"\\u0a95\\u0ab0\\u0ac7\",\"\\u0aae\\u0acc\\u0ab2\\u0abf\\u0a95 \\u0aae\\u0acb\\u0aa6\\u0ac0\",\"\\u0a95\\u0aa1\\u0ac0 \\u0ab8\\u0ab0\\u0acd\\u0ab5 \\u0ab5\\u0abf\\u0ab6\\u0acd\\u0ab5\\u0ab5\\u0abf\\u0aa6\\u0acd\\u0aaf\\u0abe\\u0ab2\\u0aaf\",\"\\u0aaa\\u0acd\\u0ab2\\u0ac7\\u0ab8\",\"\\u0ab2\\u0ac7\\u0ab5\\u0abe\\u0aae\\u0abe\\u0a82\",\"\\u0ab0\\u0aae\\u0ac7\\u0ab6 \\u0aaa\\u0a9f\\u0ac7\\u0ab2\",\"\\u0aaa\\u0acd\\u0ab2\\u0ac7\\u0ab8\\u0aae\\u0ac7\\u0aa8\\u0acd\\u0a9f\",\"8 \\u0aa5\\u0ac0 \\u0ae8\",\"\\u0aa1\\u0ac9 \\u0aac\\u0ac7\\u0ab2\\u0abe \\u0ab6\\u0acd\\u0ab0\\u0ac0\\u0aae\\u0abe\\u0ab2\\u0ac0\",\"KSV\",\"\\u0ab8\\u0ac0\\u0a9f\",\"\\u0a9b\\u0acb\\u0a95\\u0ab0\\u0abe\\u0a93\",\"\\u0ae7\\u0ae6 to 4\",\"\\u0ab5\\u0ab0\\u0acd\\u0ab7\\u0ac7\",\"\\u0a95\\u0acb\\u0ab2\\u0ac7\\u0a9c\\u0aa8\\u0ac1\\u0a82\",\"\\u0aa1\\u0ac9 \\u0ab9\\u0ac0\\u0ab0\\u0ac7\\u0aa8 \\u0aaa\\u0a9f\\u0ac7\\u0ab2\",\"2011\",\"\\u0a8f\\u0a95\\u0acd\\u0a9f\\u0abf\\u0ab5\\u0abf\\u0a9f\\u0ac0\\u0a93\",\"name\",\"year\",\"shift\\u0aa8\\u0acb\",\"\\u0a85\\u0aa8\\u0abf\\u0ab0\\u0ac1\\u0aa6\\u0acd\\u0aa7 \\u0a95\\u0acd\\u0aaf\\u0abe\\u0aa1\\u0abe\",\"\\u0ae7\\u0ae6 \\u0aa5\\u0ac0 4\",\"12,000/\\u0ab5\\u0ab0\\u0acd\\u0ab7\",\"\\u0a86\\u0aaa\\u0ab5\\u0abe\\u0aae\\u0abe\\u0a82\",\"\\u0aa8\\u0abf\\u0a95\\u0ac1\\u0a82\\u0a9c \\u0aaa\\u0a9f\\u0ac7\\u0ab2\",\"job\",\"Electrical Seminar Hall\",\"\\u0ab8\\u0acd\\u0a9f\\u0ac7\\u0ab6\\u0aa8\\u0ab0\\u0ac0\",\"\\u0aac\\u0aa8\\u0ac7\\u0aa8\\u0ac0\",\"\\u0a95\\u0acb\\u0ab0\\u0acd\\u0ab8\",\"\\u0aad\\u0abf\\u0a96\\u0abe\\u0aad\\u0abe\\u0a87 \\u0aaa\\u0a9f\\u0ac7\\u0ab2\",\"\\u0a96-\\u0aeb\",\"\\u0aae\\u0abe\\u0ab9\\u0abf\\u0aa4\\u0ac0\",\"\\u0aa1\\u0ac9 \\u0ab8\\u0acc\\u0aae\\u0abf\\u0ab2 \\u0aaa\\u0a9f\\u0ac7\\u0ab2\",\"\\u0ab5\\u0abf\\u0aa7\\u0acd\\u0aaf\\u0abe \\u0aa8\\u0abe\\u0aaf\\u0ab0\",\"library\\u0aa8\\u0acb\",\"\\u0a8f\\u0aa1\\u0aae\\u0abf\\u0ab6\\u0aa8\",\"\\u0ab8\\u0acd\\u0ab5\\u0ac0\\u0a9f\\u0ac0 \\u0aaa\\u0a9f\\u0ac7\\u0ab2\",\"\\u0ab8\\u0abe\\u0ab9\\u0ac7\\u0aac\",\"\\u0aae\\u0abf\\u0a95\\u0ac7\\u0aa8\\u0ac0\\u0a95\\u0ab2\",\"\\u0aa7\\u0ab0\\u0abe\\u0ab5\\u0aa4\\u0ac0\",\"\\u0aa7\\u0ab5\\u0ab2 \\u0aa4\\u0acd\\u0ab0\\u0abf\\u0ab5\\u0ac7\\u0aa6\\u0ac0\",\"stationary\",\"\\u0a9b\\u0ac7\",\"\\u0a8f\\u0ab2\\u0aa1\\u0ac0\\u0a86\\u0ab0\\u0aaa\\u0ac0\\u0aae\\u0abe\\u0a82civil\",\"\\u0aaa\\u0acd\\u0ab0\\u0acb\\u0a9c\\u0ac7\\u0a95\\u0acd\\u0a9f\\u0aae\\u0abe\\u0a82\",\"campus\\u0aa8\\u0ac0\",\"\\u0aaa\\u0acd\\u0ab0\\u0a95\\u0abe\\u0ab6 \\u0aaa\\u0a9f\\u0ac7\\u0ab2\",\"\\u0aa6\\u0acd\\u0ab5\\u0abe\\u0ab0\\u0abe\",\"\\u0ab6\\u0abf\\u0aab\\u0acd\\u0a9f\\u0aa8\\u0acb\",\"under\",\"\\u0aaa\\u0abe\\u0ab0\\u0acd\\u0a95\\u0abf\\u0a82\\u0a97\",\"use\",\"electrical\",\"\\u0a87\\u0a9c\\u0aa8\\u0ac7\\u0ab0\\u0ac0\\u0aa8\\u0ac0\",\"\\u0ab9\\u0aae\\u0ac7\\u0ab6\\u0abe\",\"\\u0a85\\u0a82\\u0a95\\u0abf\\u0aa4 \\u0aa6\\u0ab0\\u0a9c\\u0ac0\",\"electrical\\u0aa8\\u0abe\",\"Science and Huminity\",\"Total\",\"\\u0a9a\\u0abe\\u0ab2\\u0ac7\",\"\\u0a85\\u0aad\\u0acd\\u0aaf\\u0abe\\u0ab8\\u0a95\\u0acd\\u0ab0\\u0aae\",\"Dr Gargi Rajapara\",\"\\u0aaf\\u0ac1\\u0aa5\",\"ldrp\\u0a8f\",\"\\u0ab2\\u0abe\\u0a87\\u0aac\\u0acd\\u0ab0\\u0ac7\\u0ab0\\u0ac0\\u0aa8\\u0acb\",\"electrical\\u0aa8\\u0abe\\u0a82\",\"\\u0ab8\\u0abf\\u0ab5\\u0abf\\u0ab2\",\"\\u0aaa\\u0ab0\\u0aa5\\u0ac0\",\"ATM\\u0aa8\\u0ac0\",\"\\u0a86\\u0aaf\\u0acb\\u0a9c\\u0aa8\",\"\\u0ab8\\u0ac1\\u0aac\\u0abf\\u0aa7\\u0abe\",\"\\u0ab0\\u0ab6\\u0acd\\u0aae\\u0abf\\u0a95\\u0abe \\u0aaa\\u0a9f\\u0ac7\\u0ab2\",\"\\u0a95\\u0ac3\\u0aaa\\u0abe \\u0aa6\\u0ab5\\u0ac7\",\"quota\",\"\\u0ae8\\u0ae6\\u0ae6\\u0aee\",\"morning 8 \\u0aa5\\u0ac0 \\u0aac\\u0aaa\\u0acb\\u0ab0\\u0aa8\\u0abe 2\",\"\\u0a95\\u0abe\\u0aae\",\"project\\u0acd\\u0ab8\",\"place\",\"\\u0a86\\u0ab5\\u0ac7\\u0ab2\\u0acb\",\"stationary\\u0aa8\\u0ac0\",\"boys\\u0a93\",\"\\u0aa1\\u0ac9 \\u0ab6\\u0abf\\u0ab5\\u0abe\\u0a82\\u0a97\\u0ac0 \\u0ab8\\u0ac1\\u0ab0\\u0acd\\u0aa4\\u0ac0\",\"\\u0a9c\\u0acb\\u0aac\",\"hall\",\"\\u0ab5\\u0abe\\u0ab0\\u0acd\\u0ab7\\u0abf\\u0a95\",\"\\u0aa7\\u0acd\\u0ab0\\u0ac1\\u0ab5 \\u0aa6\\u0ab5\\u0ac7\",\"\\u0ab8\\u0abe\\u0ab0\\u0ac0\",\"\\u0ab9\\u0ac9\\u0ab2\",\"\\u0aae\\u0ac7\\u0ab5\\u0ac7\\u0aa8 \\u0ab5\\u0abf\\u0ab8\\u0acd\\u0aa4\\u0abe\",\"college\",\"\\u0aaa\\u0abe\\u0ab0\\u0acd\\u0aa5 \\u0aaa\\u0a9f\\u0ac7\\u0ab2\",\"parking\",\"girls\\u0a93\",\"ldrp\\u0aa8\\u0abe\",\"\\u0aac\\u0ab0\\u0a96\\u0abe \\u0aad\\u0abe\\u0ab5\\u0ab8\\u0abe\\u0ab0\",\"mechanical\\u0aa8\\u0abe\",\"2005\",\"\\u0aaa\\u0abe\\u0ab0\\u0acd\\u0a95\\u0abf\\u0a82\\u0a97\\u0aa8\\u0ac0\",\"\\u0aa1\\u0ac9 \\u0ab9\\u0ab0\\u0abf\\u0a95\\u0ac3\\u0ab7\\u0acd\\u0aa3 \\u0ab8\\u0abf\\u0a82\\u0ab9\",\"professor\",\"\\u0aaa\\u0ab9\\u0ac7\\u0ab2\\u0ac0\",\"\\u0ab8\\u0abf\\u0ab2\\u0ac7\\u0aac\\u0ab8\",\"240\",\"\\u0aae\\u0abe\\u0a82\",\"related\",\"\\u0ab8\\u0ac7\\u0aae\\u0ac0\\u0aa8\\u0abe\\u0ab0\",\"ldrp\",\"\\u0aaa\\u0abe\\u0ab5\\u0abf\\u0aa4 \\u0ab6\\u0abe\\u0ab9\",\"engineering\",\"campus\",\"BSC diploma\",\"\\u0a8f\\u0aae\\u0aa1\\u0a95\\u0ab8\",\",\",\"\\u0a95\\u0aae\\u0acd\\u0aaa\\u0acd\\u0aaf\\u0ac2\\u0a9f\\u0ab0\\u0aa8\\u0abe\\u0a82\",\"\\u0aac\\u0aa8\\u0ac7\",\"\\u0ab9\\u0ac7\\u0aa4\\u0ab2 \\u0aaa\\u0a82\\u0aa1\\u0acd\\u0aaf\\u0abe\",\"\\u0ab8\\u0aae\\u0abe\\u0ab5\\u0ac7\\u0ab6\",\"\\u0ab5\\u0abf\\u0a95\\u0ab8 \\u0aad\\u0abe\\u0ab5\\u0ab8\\u0abe\\u0ab0\",\"\\u0aee to \\u0ae8\",\"\\u0ae7\\u0ae6 to \\u0aea\",\"\\u0ab9\\u0aa4\\u0acb\",\"electrical\\u0aae\\u0abe\\u0a82\",\"\\u0ab8\\u0abf\\u0ab5\\u0abf\\u0ab2\\u0aa8\\u0ac0\",\"ldrp\\u0aae\\u0abe\\u0a82civil\",\"\\u0a87\\u0aa8\\u0acd\\u0aab\\u0acb\\u0ab0\\u0acd\\u0aae\\u0ac7\\u0ab6\\u0aa8 \\u0a9f\\u0ac7\\u0a95\\u0aa8\\u0acb\\u0ab2\\u0acb\\u0a9c\\u0ac0\",\"process\",\"\\u0a9c\\u0ac8\\u0aae\\u0abf\\u0aa8 \\u0aaa\\u0a9f\\u0ac7\\u0ab2\",\"\\u0a87\\u0a87\\u0aa8\\u0acb\\u0a9a\\u0acb\\u0aaa\",\"\\u0aa6\\u0ab0\\u0ac7\\u0ab6\",\"help\",\"\\u0a95\\u0abf\\u0a82\\u0a9c\\u0ab2 \\u0a9c\\u0acb\\u0ab6\\u0ac0\",\"\\u0aa8\\u0ac1\\u0a82\",\"\\u0aa8\\u0abf\\u0aaf\\u0aae\\u0aa8\\u0a95\\u0abe\\u0ab0\\u0ac0 \\u0ab8\\u0aae\\u0abf\\u0aa4\\u0abf\",\"\\u0aa1\\u0ac9 \\u0ab5\\u0abf\\u0a9c\\u0aaf \\u0aaa\\u0a9f\\u0ac7\\u0ab2\",\"\\u0aac\\u0ac0\\u0a8f\\u0ab8\\u0ab8\\u0ac0\",\"60\",\"college\\u0aa8\\u0abe\",\"\\u0a8f\\u0aae\\u0a87\",\"\\u0aa8\\u0aa5\\u0ac0\",\"\\u0ab5\\u0ab0\\u0acd\\u0a9d\",\"\\u0aa7\\u0ab0\\u0abe\\u0ab5\\u0aa4\\u0ac1\\u0a82\",\"\\u0a8f\\u0ab2\\u0a8f\\u0aa8\\u0acd\\u0aa1\\u0a9f\\u0ac0 \\u0a87\\u0aa8\\u0acd\\u0aab\\u0acb\\u0a9f\\u0ac7\\u0a95\",\"\\u0aa8\\u0ac0\",\"\\u0a8f\\u0ab2\\u0aa1\\u0ac0\\u0a86\\u0ab0\\u0aaa\\u0ac0\\u0aa8\\u0ac0\",\"ATM\",\"\\u0aa5\\u0a87\",\"\\u0ab8\\u0abe\\u0aa5\\u0ac7\",\"\\u0a97-\\u0aeb\",\"\\u0a8f\\u0ab8\\u0ac0\\u0aaa\\u0ac0\\u0ab8\\u0ac0\",\"\\u0a8f\\u0ab2\\u0aa1\\u0ac0\\u0a86\\u0ab0\\u0aaa\\u0ac0\\u0aa8\\u0ac7\",\"arrange\",\"\\u0ab8\\u0acd\\u0a9f\\u0ac1\\u0aa1\\u0aa8\\u0acd\\u0a9f\\u0acd\\u0ab8\\u0aa8\\u0ac7\",\"hod\",\"\\u0ae7\\u0ae6 \\u0aa5\\u0ac0 \\u0aea\",\"\\u0aac\\u0ac7\",\"Mechanical\\u0aa8\\u0ac0\",\"\\u0aac\\u0ab8\",\"\\u0ab2\\u0abf\\u0aab\\u0acd\\u0a9f\",\"company\",\"\\u0ab2\\u0abe\\u0aaf\\u0aac\\u0acd\\u0ab0\\u0ac7\\u0ab0\\u0ac0\\u0aa8\\u0ac0\",\"computer\\u0aa8\\u0ac0\",\"\\u0a85\\u0a82\\u0aa6\\u0ab0\",\"\\u0ab8\\u0a82\\u0a9c\\u0aaf \\u0aaa\\u0a9f\\u0ac7\\u0ab2\",\"ldrp\\u0aae\\u0abe\\u0a82\",\"course\\u0aae\\u0abe\\u0a82\",\"\\u0aa7\\u0ac0\\u0a95\\u0abe\\u0ab2\\u0ac1\\u0aaa\\u0ac1\\u0ab0 \\u0aac\\u0ac7\\u0a82\\u0a95\",\"\\u0a9f\\u0acd\\u0ab0\\u0ac0\\u0a85\\u0aa8\\u0aab\\u0ac7\\u0aa1\\u0ab0\\u0a8f\",\"\\u0aae\\u0ac7\\u0aa8\\u0ac7\\u0a9c\\u0aae\\u0ac7\\u0aa8\\u0acd\\u0a9f\",\"\\u0a9f\\u0ac7\\u0a95\\u0aab\\u0ac7\\u0ab8\\u0acd\\u0a9f\",\"\\u0a95\\u0ac7\\u0aa4\\u0aa8 \\u0a9a\\u0acc\\u0aa7\\u0ab0\\u0ac0\",\"\\u0a86\\u0aaa\\u0ac7\",\"\\u0a86\\u0ab5\\u0ac7\\u0ab2\\u0ac0\",\"\\u0aa8\\u0abe\",\"\\u0ab8\\u0acd\\u0a9f\\u0ac1\\u0aa1\\u0aa8\\u0acd\\u0a9f\\u0acd\\u0ab8\",\"branch\",\"\\u0aa8\\u0abf\\u0aae\\u0ac7\\u0ab6 \\u0aaa\\u0a9f\\u0ac7\\u0ab2\",\"\\u0aa5\\u0aa4\\u0ac1\\u0a82\",\"\\u0a85\\u0aad\\u0acd\\u0aaf\\u0abe\\u0ab8\\u0a95\\u0acd\\u0ab0\\u0aae\\u0aae\\u0abe\\u0a82\",\"\\u0aa5\\u0aaf\\u0acb\",\"\\u0ab8\\u0ab0\\u0aa8\\u0abe\\u0aae\\u0ac7\",\"\\u0a97\\u0acb\\u0aa0\\u0ab5\\u0aa3\",\"\\u0a8f\\u0ab0\\u0a95\\u0a82\\u0aa1\\u0ac0\\u0ab6\\u0aa8\",\"\\u0a85\\u0ab5\\u0aa8\\u0ac0 \\u0aa7\\u0aa7\\u0abe\\u0aa8\\u0abf\\u0aaf\\u0abe\",\"mechanical\\u0aae\\u0abe\\u0a82\",\"\\u0ab9\\u0ac7\\u0aae\\u0ab2 \\u0aaa\\u0a9f\\u0ac7\\u0ab2\",\"wife\",\"\\u0ab2\\u0ac0\\u0ab2\\u0abe\\u0aac\\u0ac7\\u0aa8 \\u0aa6\\u0ab6\\u0ab0\\u0aa5\\u0aad\\u0abe\\u0a88 \\u0ab0\\u0abe\\u0aae\\u0aa6\\u0abe\\u0ab8 \\u0aaa\\u0a9f\\u0ac7\\u0ab2 \\u0a87\\u0aa8\\u0acd\\u0ab8\\u0acd\\u0a9f\\u0ac0\\u0a9f\\u0acd\\u0aaf\\u0ac1\\u0a9f \\u0a93\\u0aab \\u0a9f\\u0ac7\\u0a95\\u0aa8\\u0acb\\u0ab2\\u0acb\\u0a9c\\u0ac0\",\"\\u0ab5\\u0abf\\u0a9c\\u0aaf \\u0aaa\\u0a9f\\u0ac7\\u0ab2\",\"\\u0a9f\\u0ac7\\u0a95 \\u0aae\\u0ab9\\u0abf\\u0aa8\\u0acd\\u0aa6\\u0acd\\u0ab0\\u0abe\",\"8 \\u0aa5\\u0ac0 2\",\"kh-5\",\"\\u0a95\\u0ac7\\u0aaa\\u0ac7\\u0ab8\\u0abf\\u0a9f\\u0ac0\",\"\\u0aa1\\u0ac9 \\u0a85\\u0ab2\\u0a95\\u0ac7\\u0ab6 \\u0aae\\u0abe\\u0ab5\\u0abe\\u0aa3\\u0ac0\",\"kh-5, \\u0ab8\\u0ac7\\u0a95\\u0acd\\u0a9f\\u0ab0 -\\u0ae7\\u0aeb, gandhinagar \\u2013\\u0ae9\\u0aee\\u0ae8\\u0ae6\\u0ae7\\u0aeb\",\"encourage\",\"3000+\",\"400+\",\"hostel\\u0aa8\\u0ac0\",\"\\u0ab5\\u0abf\\u0a95\\u0acd\\u0ab0\\u0aae \\u0a9a\\u0abe\\u0a82\\u0a97\",\"\\u0aa6\\u0abe\\u0a96\\u0ab2\",\"\\u0a95\\u0ac7\\u0aa8\\u0acd\\u0a9f\\u0ac0\\u0aa8\",\"\\u0ab0\\u0abe\\u0a95\\u0ac7\\u0ab6 \\u0ab8\\u0ac1\\u0a96\\u0aa1\\u0ac0\\u0aaf\\u0abe\",\"\\u0aee \\u0aa5\\u0ac0 \\u0ae8\",\"Kadi Sarva Vishvavidhyalay\",\"\\u0aa8\\u0abe\\u0aae\\u0aa8\\u0acb\",\"\\u0a9c\\u0ac7\\u0aa8\\u0ac7\\u0ab8\\u0abf\\u0ab8\",\"10 \\u0aa5\\u0ac0 4\",\"second\",\"university\",\"\\u0aac\\u0a82\\u0aa8\\u0ac7\\u0aa8\\u0ac0\",\"\\u0aae\\u0abf\\u0a95\\u0ac7\\u0aa8\\u0ac0\\u0a95\\u0ab2\\u0aae\\u0abe\\u0a82\",\"\\u0ab9\\u0acb\\u0ab8\\u0acd\\u0a9f\\u0ac7\\u0ab2\",\"\\u0aae\\u0abf\\u0a95\\u0ac7\\u0aa8\\u0ac0\\u0a95\\u0ab2\\u0aa8\\u0abe\",\"place\\u0aae\\u0ac7\\u0aa8\\u0acd\\u0a9f\",\"\\u0a95\\u0aae\\u0ab2\\u0ac7\\u0ab6 \\u0aaa\\u0a9f\\u0ac7\\u0ab2\",\"\\u0aee to 2\",\"\\u0ab6\\u0acd\\u0ab0\\u0ac0\\u0aae\\u0aa4\\u0ac0 \\u0a85\\u0a82\\u0a95\\u0abf\\u0aa4\\u0abe \\u0aaa\\u0ab0\\u0ac0\\u0a96\",\"\\u0a9c\\u0abe\\u0aaf\",\"\\u0ab6\\u0abf\\u0ab0\\u0ac0\\u0ab7 \\u0aaa\\u0a9f\\u0ac7\\u0ab2\",\"\\u0ab5\\u0abf\\u0ab6\\u0abe\\u0ab2 \\u0aac\\u0abe\\u0ab0\\u0acb\\u0a9f\",\"placement\\u0aae\\u0abe\\u0a82\",\"IT\\u0aa8\\u0abe\\u0a82\",\"ldrp\\u0aa8\\u0ac1\\u0a82\",\"10\",\"hostel\\u0aae\\u0abe\\u0a82\",\"\\u0ab8\\u0abf\\u0ab5\\u0abf\\u0ab2\\u0aa8\\u0abe\\u0a82\",\"\\u0ab0\\u0abe\\u0aae \\u0ab0\\u0aa4\\u0aa8 \\u0aa4\\u0abf\\u0ab5\\u0abe\\u0ab0\\u0ac0\",\"\\u0ab6\\u0ac8\\u0ab2\\u0ac7\\u0ab7 \\u0aaa\\u0a9f\\u0ac7\\u0ab2\",\"\\u0aab\\u0ac7\\u0a95\\u0ab2\\u0acd\\u0a9f\\u0ac0\\u0ab8\",\"partners\",\"\\u0aab\\u0ac7\\u0a95\\u0ab2\\u0acd\\u0a9f\\u0ac0\",\"\\u0a87\\u0ab2\\u0ac7\\u0a95\\u0acd\\u0a9f\\u0acd\\u0ab0\\u0abf\\u0a95\\u0ab2\",\"\\u0aac\\u0ac0\\u0a9c\\u0ac0\",\"\\u0aa1\\u0ac9 \\u0ab8\\u0a82\\u0aa6\\u0ac0\\u0aaa \\u0aae\\u0acb\\u0aa2\\u0abe\",\"\\u0ab2\\u0abe\\u0aaf\\u0aac\\u0acd\\u0ab0\\u0ac7\\u0ab0\\u0ac0\",\"\\u0aa1\\u0abf\\u0aaa\\u0abe\\u0ab0\\u0acd\\u0a9f\\u0aae\\u0ac7\\u0aa8\\u0acd\\u0a9f\\u0aa8\\u0abe\",\"30000\",\"\\u0a8f\\u0a95\\u0acd\\u0ab8\\u0ac7\\u0ab2\\u0ab0\",\"\\u0aa1\\u0ac0\\u0a86\\u0ab0\\u0ab8\\u0ac0 \\u0ab8\\u0abf\\u0ab8\\u0acd\\u0a9f\\u0aae\",\"department\\u0aa8\\u0abe\\u0a82\",\"\\u0ab9\\u0abe\\u0ab0\\u0acd\\u0aa6\\u0abf\\u0a95 \\u0aaa\\u0a9f\\u0ac7\\u0ab2\",\"30,000\",\"\\u0aec\\u0ae6\",\"morning 8 \\u0aa5\\u0ac0 afternoon\\u0aa8\\u0abe 2\",\"\\u0a95\\u0ac7\",\"shift\",\"\\u0aab\\u0ac7\\u0ab8\\u0a9f\\u0abf\\u0ab5\\u0ab2\",\"MSC\",\"\\u0a87\\u0ab2\\u0ac7\\u0a95\\u0acd\\u0a9f\\u0acd\\u0ab0\\u0abf\\u0a95\\u0ab2\\u0aa8\\u0ac0\",\"\\u0ab9\\u0abf\\u0aa4\\u0ac7\\u0ab6 \\u0aaa\\u0a9f\\u0ac7\\u0ab2\",\"\\u0a86\\u0ab5\\u0acd\\u0aaf\\u0acb\",\"\\u0ab8\\u0ab5\\u0abe\\u0ab0 8 \\u0aa5\\u0ac0 afternoon\\u0aa8\\u0abe 2\",\"\\u0ab8\\u0acd\\u0aaa\\u0acb\\u0ab0\\u0acd\\u0a9f\\u0acd\\u0ab8\",\"proffesor\",\"civil\\u0aa8\\u0abe\",\"Mechanical\",\"\\u0aaa\\u0acd\\u0ab0\\u0aaf\\u0aa4\\u0acd\\u0aa8\",\"\\u0a93\\u0a9a\\u0acd\\u0a9b\\u0ab5 \\u0aaa\\u0a9f\\u0ac7\\u0ab2\",\"\\u0a96-\\u0aeb, \\u0ab8\\u0ac7\\u0a95\\u0acd\\u0a9f\\u0ab0 -\\u0ae7\\u0aeb, gandhinagar \\u2013\\u0ae9\\u0aee\\u0ae8\\u0ae6\\u0ae7\\u0aeb\",\"88,000/\\u0ab5\\u0ab0\\u0acd\\u0ab7\",\"ldrp\\u0aa8\\u0ac0\",\"\\u0aaa\\u0abe\\u0ab2\\u0ac0\",\"\\u0ab9\\u0ac7\\u0aa1 \\u0a91\\u0aab \\u0aa1\\u0abf\\u0aaa\\u0abe\\u0ab0\\u0acd\\u0a9f\\u0aae\\u0ac7\\u0a82\\u0a9f\",\"\\u0ab5\\u0a9a\\u0acd\\u0a9a\\u0ac7\",\"\\u0aa5\\u0ab6\\u0ac7\",\"\\u0aaa\\u0ac2\\u0ab0\\u0ac1\\u0a82\",\"first\",\"\\u0a87\\u0ab5\\u0ac7\\u0aa8\\u0acd\\u0a9f\",\"\\u0a9d\\u0ac7\\u0aaf\\u0ac1\\u0aaf\\u0ac1\\u0a8f\\u0ab8 \\u0ab2\\u0ab0\\u0acd\\u0aa8\\u0abf\\u0a82\\u0a97\",\"computer\\u0aa8\\u0abe\\u0a82\",\"information\",\"\\u0aaa\\u0acd\\u0ab0\\u0aa4\\u0abf\\u0a95 \\u0aae\\u0acb\\u0aa6\\u0ac0\",\"\\u0aac\\u0ac0\\u0a87\",\"Lilaben Dasharathbhai ramdas patel\",\"\\u0a9c\\u0aaf\\u0a95\\u0ac1\\u0aae\\u0abe\\u0ab0 \\u0aaa\\u0a9f\\u0ac7\\u0ab2\",\"\\u0ab8\\u0acd\\u0a9f\\u0ac7\\u0ab6\\u0aa8\\u0ab0\\u0ac0\\u0aae\\u0abe\\u0a82\",\"\\u0a93\\u0aab\\u0abf\\u0ab8\\u0ab0\",\"available\",\"\\u0aa7\\u0ab0\\u0acd\\u0aae\\u0ac7\\u0ab6 \\u0a9f\\u0abe\\u0a82\\u0a95\",\"\\u0ab0\\u0abf\\u0aaf\\u0abe \\u0a97\\u0acb\\u0ab9\\u0ac0\\u0ab2\",\"\\u0a8f\\u0aae\\u0aac\\u0ac0\\u0a8f\",\"mechanical\",\"\\u0a9f\\u0acd\\u0ab0\\u0ac0\\u0a85\\u0aa8\\u0aab\\u0ac7\\u0aa1\\u0ab0\",\"ACPC\",\"\\u0a95\\u0acd\\u0ab5\\u0acb\\u0a9f\\u0abe\",\"\\u0ae7st\",\"course\",\"2\",\"\\u0a9c\\u0ac7\",\"\\u0a95\\u0ab0\\u0abe\\u0aaf\",\"\\u0a9a\\u0a82\\u0aa6\\u0acd\\u0ab0\\u0aae\\u0acc\\u0ab2\\u0abf\\u0ab8\\u0abf\\u0a82\\u0ab9 \\u0aaa\\u0ab0\\u0aae\\u0abe\\u0ab0\",\"syllabus\",\"\\u0a87\\u0aa8\\u0acd\\u0aab\\u0acb\\u0ab8\\u0ac0\\u0ab8\",\"hod \\u0a91\\u0aab \\u0aa1\\u0abf\\u0aaa\\u0abe\\u0ab0\\u0acd\\u0a9f\\u0aae\\u0ac7\\u0a82\\u0a9f\",\"\\u0aaf\\u0ac1\\u0aa8\\u0abf\\u0ab5\\u0ab0\\u0acd\\u0ab8\\u0abf\\u0a9f\\u0ac0\",\"\\u0a86\\u0ab6\\u0abf\\u0ab7 \\u0aaa\\u0a9f\\u0ac7\\u0ab2\",\"\\u0a95\\u0ac3\\u0aa3\\u0abe\\u0ab2 \\u0aaa\\u0a9f\\u0ac7\\u0ab2\",\"\\u0aa7\\u0ab0\\u0abe\\u0ab5\\u0ac7\",\"\\u0ab9\\u0ac0\\u0ab0\\u0ac7\\u0aa8\",\"Ketan Chaudhary\",\"\\u0a87\\u0a9c\\u0aa8\\u0ac7\\u0ab0\\u0ac0\",\"\\u0a86\\u0a87\\u0aac\\u0ac0\\u0a8f\\u0aae\",\"\\u0aae\\u0aa8\\u0acb\\u0a9c \\u0a95\\u0ac1\\u0aae\\u0abe\\u0ab0 \\u0ab6\\u0abe\\u0ab9\\u0ac1\\u0a82\",\"\\u0a8f\\u0ab2\\u0aa1\\u0ac0\\u0a86\\u0ab0\\u0aaa\\u0ac0\\u0aa8\\u0abe\\u0a82\",\"\\u0ab5\\u0ac8\\u0aa6\\u0ac7\\u0ab9\\u0ac0 \\u0aaa\\u0a9f\\u0ac7\\u0ab2\",\"\\u0ae8\\u0ae6\\u0ae6\\u0aeb\",\"\\u0a95\\u0ac7\\u0aae\\u0acd\\u0aaa\\u0ab8\\u0aa8\\u0ac0\",\"\\u0a85\\u0aa8\\u0ac7\",\"\\u0aac\\u0ac0\\u0a8f\\u0ab8\\u0ab8\\u0ac0 \\u0aa1\\u0ac0\\u0aaa\\u0acd\\u0ab2\\u0acb\\u0aae\\u0abe\",\"students\\u0aa8\\u0ac7\",\"\\u0ab5\\u0ab8\\u0acd\\u0aa4\\u0ac1\\u0a93\",\"\\u0ab2\\u0abe\\u0a87\\u0aac\\u0acd\\u0ab0\\u0ac7\\u0ab0\\u0ac0\",\"facilities\",\"8 to 2\",\"library\"],\"x\":{\"__ndarray__\":\"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\",\"dtype\":\"float32\",\"shape\":[610]},\"y\":{\"__ndarray__\":\"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\",\"dtype\":\"float32\",\"shape\":[610]}},\"selected\":{\"id\":\"1313\",\"type\":\"Selection\"},\"selection_policy\":{\"id\":\"1312\",\"type\":\"UnionRenderers\"}},\"id\":\"1283\",\"type\":\"ColumnDataSource\"},{\"attributes\":{\"callback\":null},\"id\":\"1254\",\"type\":\"DataRange1d\"},{\"attributes\":{},\"id\":\"1270\",\"type\":\"PanTool\"},{\"attributes\":{\"formatter\":{\"id\":\"1309\",\"type\":\"BasicTickFormatter\"},\"ticker\":{\"id\":\"1261\",\"type\":\"BasicTicker\"}},\"id\":\"1260\",\"type\":\"LinearAxis\"},{\"attributes\":{\"text_color\":{\"value\":\"black\"},\"x\":{\"field\":\"x\"},\"y\":{\"field\":\"y\"}},\"id\":\"1284\",\"type\":\"Text\"},{\"attributes\":{},\"id\":\"1266\",\"type\":\"BasicTicker\"},{\"attributes\":{\"text\":\"\"},\"id\":\"1306\",\"type\":\"Title\"},{\"attributes\":{\"source\":{\"id\":\"1283\",\"type\":\"ColumnDataSource\"}},\"id\":\"1287\",\"type\":\"CDSView\"},{\"attributes\":{\"overlay\":{\"id\":\"1314\",\"type\":\"BoxAnnotation\"}},\"id\":\"1272\",\"type\":\"BoxZoomTool\"},{\"attributes\":{},\"id\":\"1311\",\"type\":\"BasicTickFormatter\"},{\"attributes\":{\"bottom_units\":\"screen\",\"fill_alpha\":{\"value\":0.5},\"fill_color\":{\"value\":\"lightgrey\"},\"left_units\":\"screen\",\"level\":\"overlay\",\"line_alpha\":{\"value\":1.0},\"line_color\":{\"value\":\"black\"},\"line_dash\":[4,4],\"line_width\":{\"value\":2},\"render_mode\":\"css\",\"right_units\":\"screen\",\"top_units\":\"screen\"},\"id\":\"1314\",\"type\":\"BoxAnnotation\"},{\"attributes\":{\"formatter\":{\"id\":\"1311\",\"type\":\"BasicTickFormatter\"},\"ticker\":{\"id\":\"1266\",\"type\":\"BasicTicker\"}},\"id\":\"1265\",\"type\":\"LinearAxis\"},{\"attributes\":{},\"id\":\"1309\",\"type\":\"BasicTickFormatter\"},{\"attributes\":{\"data_source\":{\"id\":\"1283\",\"type\":\"ColumnDataSource\"},\"glyph\":{\"id\":\"1284\",\"type\":\"Text\"},\"hover_glyph\":null,\"muted_glyph\":null,\"nonselection_glyph\":{\"id\":\"1285\",\"type\":\"Text\"},\"selection_glyph\":null,\"view\":{\"id\":\"1287\",\"type\":\"CDSView\"}},\"id\":\"1286\",\"type\":\"GlyphRenderer\"},{\"attributes\":{},\"id\":\"1271\",\"type\":\"WheelZoomTool\"},{\"attributes\":{},\"id\":\"1275\",\"type\":\"HelpTool\"},{\"attributes\":{},\"id\":\"1312\",\"type\":\"UnionRenderers\"},{\"attributes\":{},\"id\":\"1313\",\"type\":\"Selection\"},{\"attributes\":{},\"id\":\"1261\",\"type\":\"BasicTicker\"},{\"attributes\":{},\"id\":\"1274\",\"type\":\"ResetTool\"}],\"root_ids\":[\"1251\"]},\"title\":\"Bokeh Application\",\"version\":\"1.3.4\"}};\n",
       "  var render_items = [{\"docid\":\"55bec1b4-a1fb-4153-94e0-49ea7b723367\",\"roots\":{\"1251\":\"9ca42360-6ed2-41ad-beff-838cea5f592f\"}}];\n",
       "  root.Bokeh.embed.embed_items_notebook(docs_json, render_items);\n",
       "\n",
       "  }\n",
       "  if (root.Bokeh !== undefined) {\n",
       "    embed_document(root);\n",
       "  } else {\n",
       "    var attempts = 0;\n",
       "    var timer = setInterval(function(root) {\n",
       "      if (root.Bokeh !== undefined) {\n",
       "        embed_document(root);\n",
       "        clearInterval(timer);\n",
       "      }\n",
       "      attempts++;\n",
       "      if (attempts > 100) {\n",
       "        console.log(\"Bokeh: ERROR: Unable to run BokehJS code because BokehJS library is missing\");\n",
       "        clearInterval(timer);\n",
       "      }\n",
       "    }, 10, root)\n",
       "  }\n",
       "})(window);"
      ],
      "application/vnd.bokehjs_exec.v0+json": ""
     },
     "metadata": {
      "application/vnd.bokehjs_exec.v0+json": {
       "id": "1251"
      }
     },
     "output_type": "display_data"
    }
   ],
   "source": [
    "show(p)"
   ]
  },
  {
   "cell_type": "code",
   "execution_count": 8,
   "metadata": {},
   "outputs": [],
   "source": [
    "def jupyter_bokeh(file_loc):\n",
    "    model = gensim.models.Word2Vec.load(file_loc)\n",
    "    X = model.wv.__getitem__(model.wv.vocab)\n",
    "    tsne = TSNE(n_components=3, n_iter=1000)  # 200 is minimum iter; default is 1000\n",
    "    X_2d = tsne.fit_transform(X)\n",
    "    \n",
    "    # create DataFrame for storing results and plotting\n",
    "    coords_df = pd.DataFrame(X_2d, columns=['x', 'y', 'z'])\n",
    "    coords_df['token'] = model.wv.vocab.keys()\n",
    "    \n",
    "    _ = coords_df.plot.scatter('x', 'y', figsize=(12, 12), marker='.', s=10, alpha=0.2)\n",
    "    output_notebook()  # output bokeh plots inline in notebook\n",
    "    subset_df = coords_df.sample(n=len(X))\n",
    "    \n",
    "    p = figure(plot_width=800, plot_height=800)\n",
    "    _ = p.text(x=subset_df.x, y=subset_df.y, text=subset_df.token)\n",
    "    show(p)"
   ]
  },
  {
   "cell_type": "code",
   "execution_count": 9,
   "metadata": {},
   "outputs": [
    {
     "ename": "FileNotFoundError",
     "evalue": "[Errno 2] No such file or directory: 'C:\\\\Users\\\\trush\\\\OneDrive\\\\Documents\\\\Projects\\\\Python\\\\Word2Vec\\\\SG.w2v'",
     "output_type": "error",
     "traceback": [
      "\u001b[1;31m---------------------------------------------------------------------------\u001b[0m",
      "\u001b[1;31mFileNotFoundError\u001b[0m                         Traceback (most recent call last)",
      "\u001b[1;32m<ipython-input-9-010f7f442b9c>\u001b[0m in \u001b[0;36m<module>\u001b[1;34m\u001b[0m\n\u001b[1;32m----> 1\u001b[1;33m \u001b[0mjupyter_bokeh\u001b[0m\u001b[1;33m(\u001b[0m\u001b[1;34mr\"C:\\Users\\trush\\OneDrive\\Documents\\Projects\\Python\\Word2Vec\\SG.w2v\"\u001b[0m\u001b[1;33m)\u001b[0m\u001b[1;33m\u001b[0m\u001b[1;33m\u001b[0m\u001b[0m\n\u001b[0m",
      "\u001b[1;32m<ipython-input-8-bdededb96adf>\u001b[0m in \u001b[0;36mjupyter_bokeh\u001b[1;34m(file_loc)\u001b[0m\n\u001b[0;32m      1\u001b[0m \u001b[1;32mdef\u001b[0m \u001b[0mjupyter_bokeh\u001b[0m\u001b[1;33m(\u001b[0m\u001b[0mfile_loc\u001b[0m\u001b[1;33m)\u001b[0m\u001b[1;33m:\u001b[0m\u001b[1;33m\u001b[0m\u001b[1;33m\u001b[0m\u001b[0m\n\u001b[1;32m----> 2\u001b[1;33m     \u001b[0mmodel\u001b[0m \u001b[1;33m=\u001b[0m \u001b[0mgensim\u001b[0m\u001b[1;33m.\u001b[0m\u001b[0mmodels\u001b[0m\u001b[1;33m.\u001b[0m\u001b[0mWord2Vec\u001b[0m\u001b[1;33m.\u001b[0m\u001b[0mload\u001b[0m\u001b[1;33m(\u001b[0m\u001b[0mfile_loc\u001b[0m\u001b[1;33m)\u001b[0m\u001b[1;33m\u001b[0m\u001b[1;33m\u001b[0m\u001b[0m\n\u001b[0m\u001b[0;32m      3\u001b[0m     \u001b[0mX\u001b[0m \u001b[1;33m=\u001b[0m \u001b[0mmodel\u001b[0m\u001b[1;33m.\u001b[0m\u001b[0mwv\u001b[0m\u001b[1;33m.\u001b[0m\u001b[0m__getitem__\u001b[0m\u001b[1;33m(\u001b[0m\u001b[0mmodel\u001b[0m\u001b[1;33m.\u001b[0m\u001b[0mwv\u001b[0m\u001b[1;33m.\u001b[0m\u001b[0mvocab\u001b[0m\u001b[1;33m)\u001b[0m\u001b[1;33m\u001b[0m\u001b[1;33m\u001b[0m\u001b[0m\n\u001b[0;32m      4\u001b[0m     \u001b[0mtsne\u001b[0m \u001b[1;33m=\u001b[0m \u001b[0mTSNE\u001b[0m\u001b[1;33m(\u001b[0m\u001b[0mn_components\u001b[0m\u001b[1;33m=\u001b[0m\u001b[1;36m3\u001b[0m\u001b[1;33m,\u001b[0m \u001b[0mn_iter\u001b[0m\u001b[1;33m=\u001b[0m\u001b[1;36m1000\u001b[0m\u001b[1;33m)\u001b[0m  \u001b[1;31m# 200 is minimum iter; default is 1000\u001b[0m\u001b[1;33m\u001b[0m\u001b[1;33m\u001b[0m\u001b[0m\n\u001b[0;32m      5\u001b[0m     \u001b[0mX_2d\u001b[0m \u001b[1;33m=\u001b[0m \u001b[0mtsne\u001b[0m\u001b[1;33m.\u001b[0m\u001b[0mfit_transform\u001b[0m\u001b[1;33m(\u001b[0m\u001b[0mX\u001b[0m\u001b[1;33m)\u001b[0m\u001b[1;33m\u001b[0m\u001b[1;33m\u001b[0m\u001b[0m\n",
      "\u001b[1;32m~\\Anaconda3\\lib\\site-packages\\gensim\\models\\word2vec.py\u001b[0m in \u001b[0;36mload\u001b[1;34m(cls, *args, **kwargs)\u001b[0m\n\u001b[0;32m   1328\u001b[0m         \"\"\"\n\u001b[0;32m   1329\u001b[0m         \u001b[1;32mtry\u001b[0m\u001b[1;33m:\u001b[0m\u001b[1;33m\u001b[0m\u001b[1;33m\u001b[0m\u001b[0m\n\u001b[1;32m-> 1330\u001b[1;33m             \u001b[0mmodel\u001b[0m \u001b[1;33m=\u001b[0m \u001b[0msuper\u001b[0m\u001b[1;33m(\u001b[0m\u001b[0mWord2Vec\u001b[0m\u001b[1;33m,\u001b[0m \u001b[0mcls\u001b[0m\u001b[1;33m)\u001b[0m\u001b[1;33m.\u001b[0m\u001b[0mload\u001b[0m\u001b[1;33m(\u001b[0m\u001b[1;33m*\u001b[0m\u001b[0margs\u001b[0m\u001b[1;33m,\u001b[0m \u001b[1;33m**\u001b[0m\u001b[0mkwargs\u001b[0m\u001b[1;33m)\u001b[0m\u001b[1;33m\u001b[0m\u001b[1;33m\u001b[0m\u001b[0m\n\u001b[0m\u001b[0;32m   1331\u001b[0m \u001b[1;33m\u001b[0m\u001b[0m\n\u001b[0;32m   1332\u001b[0m             \u001b[1;31m# for backward compatibility for `max_final_vocab` feature\u001b[0m\u001b[1;33m\u001b[0m\u001b[1;33m\u001b[0m\u001b[1;33m\u001b[0m\u001b[0m\n",
      "\u001b[1;32m~\\Anaconda3\\lib\\site-packages\\gensim\\models\\base_any2vec.py\u001b[0m in \u001b[0;36mload\u001b[1;34m(cls, *args, **kwargs)\u001b[0m\n\u001b[0;32m   1242\u001b[0m \u001b[1;33m\u001b[0m\u001b[0m\n\u001b[0;32m   1243\u001b[0m         \"\"\"\n\u001b[1;32m-> 1244\u001b[1;33m         \u001b[0mmodel\u001b[0m \u001b[1;33m=\u001b[0m \u001b[0msuper\u001b[0m\u001b[1;33m(\u001b[0m\u001b[0mBaseWordEmbeddingsModel\u001b[0m\u001b[1;33m,\u001b[0m \u001b[0mcls\u001b[0m\u001b[1;33m)\u001b[0m\u001b[1;33m.\u001b[0m\u001b[0mload\u001b[0m\u001b[1;33m(\u001b[0m\u001b[1;33m*\u001b[0m\u001b[0margs\u001b[0m\u001b[1;33m,\u001b[0m \u001b[1;33m**\u001b[0m\u001b[0mkwargs\u001b[0m\u001b[1;33m)\u001b[0m\u001b[1;33m\u001b[0m\u001b[1;33m\u001b[0m\u001b[0m\n\u001b[0m\u001b[0;32m   1245\u001b[0m         \u001b[1;32mif\u001b[0m \u001b[1;32mnot\u001b[0m \u001b[0mhasattr\u001b[0m\u001b[1;33m(\u001b[0m\u001b[0mmodel\u001b[0m\u001b[1;33m,\u001b[0m \u001b[1;34m'ns_exponent'\u001b[0m\u001b[1;33m)\u001b[0m\u001b[1;33m:\u001b[0m\u001b[1;33m\u001b[0m\u001b[1;33m\u001b[0m\u001b[0m\n\u001b[0;32m   1246\u001b[0m             \u001b[0mmodel\u001b[0m\u001b[1;33m.\u001b[0m\u001b[0mns_exponent\u001b[0m \u001b[1;33m=\u001b[0m \u001b[1;36m0.75\u001b[0m\u001b[1;33m\u001b[0m\u001b[1;33m\u001b[0m\u001b[0m\n",
      "\u001b[1;32m~\\Anaconda3\\lib\\site-packages\\gensim\\models\\base_any2vec.py\u001b[0m in \u001b[0;36mload\u001b[1;34m(cls, fname_or_handle, **kwargs)\u001b[0m\n\u001b[0;32m    601\u001b[0m \u001b[1;33m\u001b[0m\u001b[0m\n\u001b[0;32m    602\u001b[0m         \"\"\"\n\u001b[1;32m--> 603\u001b[1;33m         \u001b[1;32mreturn\u001b[0m \u001b[0msuper\u001b[0m\u001b[1;33m(\u001b[0m\u001b[0mBaseAny2VecModel\u001b[0m\u001b[1;33m,\u001b[0m \u001b[0mcls\u001b[0m\u001b[1;33m)\u001b[0m\u001b[1;33m.\u001b[0m\u001b[0mload\u001b[0m\u001b[1;33m(\u001b[0m\u001b[0mfname_or_handle\u001b[0m\u001b[1;33m,\u001b[0m \u001b[1;33m**\u001b[0m\u001b[0mkwargs\u001b[0m\u001b[1;33m)\u001b[0m\u001b[1;33m\u001b[0m\u001b[1;33m\u001b[0m\u001b[0m\n\u001b[0m\u001b[0;32m    604\u001b[0m \u001b[1;33m\u001b[0m\u001b[0m\n\u001b[0;32m    605\u001b[0m     \u001b[1;32mdef\u001b[0m \u001b[0msave\u001b[0m\u001b[1;33m(\u001b[0m\u001b[0mself\u001b[0m\u001b[1;33m,\u001b[0m \u001b[0mfname_or_handle\u001b[0m\u001b[1;33m,\u001b[0m \u001b[1;33m**\u001b[0m\u001b[0mkwargs\u001b[0m\u001b[1;33m)\u001b[0m\u001b[1;33m:\u001b[0m\u001b[1;33m\u001b[0m\u001b[1;33m\u001b[0m\u001b[0m\n",
      "\u001b[1;32m~\\Anaconda3\\lib\\site-packages\\gensim\\utils.py\u001b[0m in \u001b[0;36mload\u001b[1;34m(cls, fname, mmap)\u001b[0m\n\u001b[0;32m    424\u001b[0m         \u001b[0mcompress\u001b[0m\u001b[1;33m,\u001b[0m \u001b[0msubname\u001b[0m \u001b[1;33m=\u001b[0m \u001b[0mSaveLoad\u001b[0m\u001b[1;33m.\u001b[0m\u001b[0m_adapt_by_suffix\u001b[0m\u001b[1;33m(\u001b[0m\u001b[0mfname\u001b[0m\u001b[1;33m)\u001b[0m\u001b[1;33m\u001b[0m\u001b[1;33m\u001b[0m\u001b[0m\n\u001b[0;32m    425\u001b[0m \u001b[1;33m\u001b[0m\u001b[0m\n\u001b[1;32m--> 426\u001b[1;33m         \u001b[0mobj\u001b[0m \u001b[1;33m=\u001b[0m \u001b[0munpickle\u001b[0m\u001b[1;33m(\u001b[0m\u001b[0mfname\u001b[0m\u001b[1;33m)\u001b[0m\u001b[1;33m\u001b[0m\u001b[1;33m\u001b[0m\u001b[0m\n\u001b[0m\u001b[0;32m    427\u001b[0m         \u001b[0mobj\u001b[0m\u001b[1;33m.\u001b[0m\u001b[0m_load_specials\u001b[0m\u001b[1;33m(\u001b[0m\u001b[0mfname\u001b[0m\u001b[1;33m,\u001b[0m \u001b[0mmmap\u001b[0m\u001b[1;33m,\u001b[0m \u001b[0mcompress\u001b[0m\u001b[1;33m,\u001b[0m \u001b[0msubname\u001b[0m\u001b[1;33m)\u001b[0m\u001b[1;33m\u001b[0m\u001b[1;33m\u001b[0m\u001b[0m\n\u001b[0;32m    428\u001b[0m         \u001b[0mlogger\u001b[0m\u001b[1;33m.\u001b[0m\u001b[0minfo\u001b[0m\u001b[1;33m(\u001b[0m\u001b[1;34m\"loaded %s\"\u001b[0m\u001b[1;33m,\u001b[0m \u001b[0mfname\u001b[0m\u001b[1;33m)\u001b[0m\u001b[1;33m\u001b[0m\u001b[1;33m\u001b[0m\u001b[0m\n",
      "\u001b[1;32m~\\Anaconda3\\lib\\site-packages\\gensim\\utils.py\u001b[0m in \u001b[0;36munpickle\u001b[1;34m(fname)\u001b[0m\n\u001b[0;32m   1379\u001b[0m \u001b[1;33m\u001b[0m\u001b[0m\n\u001b[0;32m   1380\u001b[0m     \"\"\"\n\u001b[1;32m-> 1381\u001b[1;33m     \u001b[1;32mwith\u001b[0m \u001b[0mopen\u001b[0m\u001b[1;33m(\u001b[0m\u001b[0mfname\u001b[0m\u001b[1;33m,\u001b[0m \u001b[1;34m'rb'\u001b[0m\u001b[1;33m)\u001b[0m \u001b[1;32mas\u001b[0m \u001b[0mf\u001b[0m\u001b[1;33m:\u001b[0m\u001b[1;33m\u001b[0m\u001b[1;33m\u001b[0m\u001b[0m\n\u001b[0m\u001b[0;32m   1382\u001b[0m         \u001b[1;31m# Because of loading from S3 load can't be used (missing readline in smart_open)\u001b[0m\u001b[1;33m\u001b[0m\u001b[1;33m\u001b[0m\u001b[1;33m\u001b[0m\u001b[0m\n\u001b[0;32m   1383\u001b[0m         \u001b[1;32mif\u001b[0m \u001b[0msys\u001b[0m\u001b[1;33m.\u001b[0m\u001b[0mversion_info\u001b[0m \u001b[1;33m>\u001b[0m \u001b[1;33m(\u001b[0m\u001b[1;36m3\u001b[0m\u001b[1;33m,\u001b[0m \u001b[1;36m0\u001b[0m\u001b[1;33m)\u001b[0m\u001b[1;33m:\u001b[0m\u001b[1;33m\u001b[0m\u001b[1;33m\u001b[0m\u001b[0m\n",
      "\u001b[1;32m~\\Anaconda3\\lib\\site-packages\\smart_open\\smart_open_lib.py\u001b[0m in \u001b[0;36mopen\u001b[1;34m(uri, mode, buffering, encoding, errors, newline, closefd, opener, ignore_ext, transport_params)\u001b[0m\n\u001b[0;32m    306\u001b[0m         \u001b[0mbuffering\u001b[0m\u001b[1;33m=\u001b[0m\u001b[0mbuffering\u001b[0m\u001b[1;33m,\u001b[0m\u001b[1;33m\u001b[0m\u001b[1;33m\u001b[0m\u001b[0m\n\u001b[0;32m    307\u001b[0m         \u001b[0mencoding\u001b[0m\u001b[1;33m=\u001b[0m\u001b[0mencoding\u001b[0m\u001b[1;33m,\u001b[0m\u001b[1;33m\u001b[0m\u001b[1;33m\u001b[0m\u001b[0m\n\u001b[1;32m--> 308\u001b[1;33m         \u001b[0merrors\u001b[0m\u001b[1;33m=\u001b[0m\u001b[0merrors\u001b[0m\u001b[1;33m,\u001b[0m\u001b[1;33m\u001b[0m\u001b[1;33m\u001b[0m\u001b[0m\n\u001b[0m\u001b[0;32m    309\u001b[0m     )\n\u001b[0;32m    310\u001b[0m     \u001b[1;32mif\u001b[0m \u001b[0mfobj\u001b[0m \u001b[1;32mis\u001b[0m \u001b[1;32mnot\u001b[0m \u001b[1;32mNone\u001b[0m\u001b[1;33m:\u001b[0m\u001b[1;33m\u001b[0m\u001b[1;33m\u001b[0m\u001b[0m\n",
      "\u001b[1;32m~\\Anaconda3\\lib\\site-packages\\smart_open\\smart_open_lib.py\u001b[0m in \u001b[0;36m_shortcut_open\u001b[1;34m(uri, mode, ignore_ext, buffering, encoding, errors)\u001b[0m\n\u001b[0;32m    515\u001b[0m     \u001b[1;31m#\u001b[0m\u001b[1;33m\u001b[0m\u001b[1;33m\u001b[0m\u001b[1;33m\u001b[0m\u001b[0m\n\u001b[0;32m    516\u001b[0m     \u001b[1;32mif\u001b[0m \u001b[0msix\u001b[0m\u001b[1;33m.\u001b[0m\u001b[0mPY3\u001b[0m\u001b[1;33m:\u001b[0m\u001b[1;33m\u001b[0m\u001b[1;33m\u001b[0m\u001b[0m\n\u001b[1;32m--> 517\u001b[1;33m         \u001b[1;32mreturn\u001b[0m \u001b[0m_builtin_open\u001b[0m\u001b[1;33m(\u001b[0m\u001b[0mparsed_uri\u001b[0m\u001b[1;33m.\u001b[0m\u001b[0muri_path\u001b[0m\u001b[1;33m,\u001b[0m \u001b[0mmode\u001b[0m\u001b[1;33m,\u001b[0m \u001b[0mbuffering\u001b[0m\u001b[1;33m=\u001b[0m\u001b[0mbuffering\u001b[0m\u001b[1;33m,\u001b[0m \u001b[1;33m**\u001b[0m\u001b[0mopen_kwargs\u001b[0m\u001b[1;33m)\u001b[0m\u001b[1;33m\u001b[0m\u001b[1;33m\u001b[0m\u001b[0m\n\u001b[0m\u001b[0;32m    518\u001b[0m     \u001b[1;32melif\u001b[0m \u001b[1;32mnot\u001b[0m \u001b[0mopen_kwargs\u001b[0m\u001b[1;33m:\u001b[0m\u001b[1;33m\u001b[0m\u001b[1;33m\u001b[0m\u001b[0m\n\u001b[0;32m    519\u001b[0m         \u001b[1;32mreturn\u001b[0m \u001b[0m_builtin_open\u001b[0m\u001b[1;33m(\u001b[0m\u001b[0mparsed_uri\u001b[0m\u001b[1;33m.\u001b[0m\u001b[0muri_path\u001b[0m\u001b[1;33m,\u001b[0m \u001b[0mmode\u001b[0m\u001b[1;33m,\u001b[0m \u001b[0mbuffering\u001b[0m\u001b[1;33m=\u001b[0m\u001b[0mbuffering\u001b[0m\u001b[1;33m)\u001b[0m\u001b[1;33m\u001b[0m\u001b[1;33m\u001b[0m\u001b[0m\n",
      "\u001b[1;31mFileNotFoundError\u001b[0m: [Errno 2] No such file or directory: 'C:\\\\Users\\\\trush\\\\OneDrive\\\\Documents\\\\Projects\\\\Python\\\\Word2Vec\\\\SG.w2v'"
     ]
    }
   ],
   "source": [
    "jupyter_bokeh(r\"D:\\MY\\GIT\\GujaratiWord2Vec\\pure_Gujarati\\pure_gujarati_corpus\\Transformed_model\\combined_dataset_CBOW.w2v\")"
   ]
  },
  {
   "cell_type": "code",
   "execution_count": 14,
   "metadata": {},
   "outputs": [
    {
     "ename": "NameError",
     "evalue": "name 'jupyter_bokeh' is not defined",
     "output_type": "error",
     "traceback": [
      "\u001b[1;31m---------------------------------------------------------------------------\u001b[0m",
      "\u001b[1;31mNameError\u001b[0m                                 Traceback (most recent call last)",
      "\u001b[1;32m<ipython-input-14-eb46262304b6>\u001b[0m in \u001b[0;36m<module>\u001b[1;34m\u001b[0m\n\u001b[1;32m----> 1\u001b[1;33m \u001b[0mjupyter_bokeh\u001b[0m\u001b[1;33m(\u001b[0m\u001b[1;34mr\"C:\\Users\\trush\\OneDrive\\Desktop\\pure_gujarati_corpus\\yashawant_SG.w2v\"\u001b[0m\u001b[1;33m)\u001b[0m\u001b[1;33m\u001b[0m\u001b[1;33m\u001b[0m\u001b[0m\n\u001b[0m",
      "\u001b[1;31mNameError\u001b[0m: name 'jupyter_bokeh' is not defined"
     ]
    }
   ],
   "source": [
    "jupyter_bokeh(r\"D:\\MY\\GIT\\GujaratiWord2Vec\\pure_Gujarati\\pure_gujarati_corpus\\Transformed_model\\combined_dataset_CBOW.w2v\")"
   ]
  },
  {
   "cell_type": "code",
   "execution_count": 12,
   "metadata": {},
   "outputs": [],
   "source": [
    "\n",
    "def most_similar(model, word):\n",
    "    print(\"Most Similar to \" + word + \" : \\n\",model.wv.most_similar(word))"
   ]
  },
  {
   "cell_type": "code",
   "execution_count": 13,
   "metadata": {},
   "outputs": [],
   "source": [
    "model = gensim.models.Word2Vec.load(r\"C:\\Users\\trush\\OneDrive\\Desktop\\pure_gujarati_corpus\\yashawant_SG.w2v\")\n"
   ]
  },
  {
   "cell_type": "code",
   "execution_count": 14,
   "metadata": {},
   "outputs": [
    {
     "name": "stdout",
     "output_type": "stream",
     "text": [
      "Most Similar to information : \n",
      " [(',', 0.9997222423553467), ('ldrp', 0.9997186064720154), (';', 0.9996910095214844), ('શિફ્ટ=shift', 0.9996881484985352), ('2=૨', 0.9996811151504517), ('8=૮', 0.9996810555458069), ('h.o.d', 0.9996763467788696), ('department', 0.9996742606163025), ('60', 0.999672532081604), ('કમ્પ્યૂટરની', 0.9996709823608398)]\n"
     ]
    }
   ],
   "source": [
    "most_similar(model,'information')"
   ]
  },
  {
   "cell_type": "code",
   "execution_count": 15,
   "metadata": {},
   "outputs": [
    {
     "name": "stdout",
     "output_type": "stream",
     "text": [
      "Most Similar to હિતેશ : \n",
      " [('કમ્પ્યૂટરની', 0.9995378851890564), ('h.o.d', 0.9995304942131042), ('બીજી', 0.9995156526565552), ('ldrp', 0.9995144009590149), ('સમય=time', 0.9995067119598389), ('શિફ્ટ=shift', 0.9995058178901672), (',', 0.9995009899139404), ('60', 0.9995009899139404), ('ડિપાર્ટમેન્ટના', 0.9994999766349792), ('હેડ=hod', 0.9994985461235046)]\n"
     ]
    }
   ],
   "source": [
    "most_similar(model,'હિતેશ')"
   ]
  },
  {
   "cell_type": "code",
   "execution_count": 16,
   "metadata": {},
   "outputs": [
    {
     "name": "stdout",
     "output_type": "stream",
     "text": [
      "Most Similar to hod : \n",
      " [(',', 0.9998050928115845), ('કમ્પ્યૂટરની', 0.999778151512146), ('ldrp', 0.9997742176055908), ('2=૨', 0.9997719526290894), ('શિફ્ટ=shift', 0.9997684359550476), (';', 0.9997661113739014), ('ફેકલ્ટી=faculty', 0.9997661113739014), ('8=૮', 0.9997496604919434), ('અભ્યાસક્રમ=subject', 0.9997467398643494), ('પાલી', 0.999743640422821)]\n"
     ]
    }
   ],
   "source": [
    "most_similar(model,'hod')"
   ]
  },
  {
   "cell_type": "code",
   "execution_count": 18,
   "metadata": {},
   "outputs": [
    {
     "name": "stdout",
     "output_type": "stream",
     "text": [
      "Most Similar to હીરેન : \n",
      " [('ldrp', 0.999535322189331), ('કમ્પ્યૂટરની', 0.9995352029800415), ('ડિપાર્ટમેન્ટના', 0.9995324611663818), (',', 0.999510645866394), ('60', 0.9995099902153015), ('h.o.d', 0.9995089173316956), ('seat', 0.9994974136352539), ('સીટ', 0.9994969964027405), ('સિલેબસ', 0.9994966983795166), ('સમય=time', 0.9994933605194092)]\n"
     ]
    }
   ],
   "source": [
    "most_similar(model,'હીરેન')"
   ]
  }
 ],
 "metadata": {
  "kernelspec": {
   "display_name": "Python 3",
   "language": "python",
   "name": "python3"
  },
  "language_info": {
   "codemirror_mode": {
    "name": "ipython",
    "version": 3
   },
   "file_extension": ".py",
   "mimetype": "text/x-python",
   "name": "python",
   "nbconvert_exporter": "python",
   "pygments_lexer": "ipython3",
   "version": "3.7.4"
  }
 },
 "nbformat": 4,
 "nbformat_minor": 2
}
